{
  "nbformat": 4,
  "nbformat_minor": 0,
  "metadata": {
    "colab": {
      "name": "generating_data.ipynb",
      "provenance": [],
      "collapsed_sections": []
    },
    "kernelspec": {
      "name": "python3",
      "display_name": "Python 3"
    }
  },
  "cells": [
    {
      "cell_type": "markdown",
      "metadata": {
        "id": "rTsKrCBotDQM"
      },
      "source": [
        "As a fan of skateboarding. What's better than having our own online store where we sell skateboards and accessories. We want to create a CSV of imaginary sales for each month of last year. We're going to generate thousands of rows of product prices, addresses... \n",
        "\n",
        "\n",
        "Our data will have the 6 following columns:\n",
        "\n"
      ]
    },
    {
      "cell_type": "code",
      "metadata": {
        "id": "--snw_RjnUGF"
      },
      "source": [
        "columns = ['Order_ID', 'Product', 'Quantity_Ordered', 'Price_Each', 'Order_Date', 'Purchase_Address']"
      ],
      "execution_count": null,
      "outputs": []
    },
    {
      "cell_type": "markdown",
      "metadata": {
        "id": "Qy6MftFjwK0Q"
      },
      "source": [
        "Here's the list of the product we sell with their prices. You can find complete boards,shoes and some accessories from popular brands "
      ]
    },
    {
      "cell_type": "code",
      "metadata": {
        "id": "gXz8c5rWpbd7"
      },
      "source": [
        "products = {\n",
        "    'Flip Complete Board': 1400,\n",
        "    'Element Complete Board': 1200,\n",
        "    'Oliveira Tin Toy Deck': 800,\n",
        "    '55mm Sparx 99a Ricta Wheels': 219.99,\n",
        "    'Nike Nyjah 2': 758.99,\n",
        "    'Nike Jacob Janowski': 778.99,\n",
        "    'Polished Silver Standard Bullet Trucks': 299.99,\n",
        "    'Trasher hoodie': 600, \n",
        "    'Element by Nigel Cabourn Alder 4 Jacket': 3400, \n",
        "    'Flat Bar': 1899.99,\n",
        "    'Grip': 26.84,\n",
        "    'Steackers': 24.99,\n",
        "    'Element ‑ Visserie Allen 1': 82.95,\n",
        "    'All In One Skate': 88.95,\n",
        "    'Supreme Cap': 79.99,\n",
        "    'T-Shirt Colorblock vans': 189.99,\n",
        "    'Black Standard Bullet Trucks': 300,\n",
        "    'Mercer Flora Untamed 35\" Longboard': 1200.00,\n",
        "    'Santa Cruz Classic Dot 41\" Drop Through Longboard': 1200.00\n",
        "\n",
        "}"
      ],
      "execution_count": null,
      "outputs": []
    },
    {
      "cell_type": "markdown",
      "metadata": {
        "id": "7EHwUOzJxeVw"
      },
      "source": [
        "Let's generate a simple csv of our data with 1000 entries to start. For the moment we keep the Quantity Ordered equal to 1 for each purchase and leave Order Date and Purchase Address blank "
      ]
    },
    {
      "cell_type": "code",
      "metadata": {
        "id": "XrZala-Rx711"
      },
      "source": [
        "import pandas as pd \n",
        "import random "
      ],
      "execution_count": null,
      "outputs": []
    },
    {
      "cell_type": "code",
      "metadata": {
        "id": "-Acb8_NHFdzx"
      },
      "source": [
        "#empty DataFrame with the 6 columns we defined before \n",
        "df = pd.DataFrame(columns=columns)\n",
        "\n",
        "#filling rows with randomly selected products \n",
        "for i in range(1000):\n",
        "  product = random.choice(list(products.keys()))\n",
        "  price = products[product]\n",
        "  df.loc[i] = [i, product, 1, price, 'NA', 'NA']\n",
        "\n",
        "df.to_csv('test_data.csv')"
      ],
      "execution_count": null,
      "outputs": []
    },
    {
      "cell_type": "markdown",
      "metadata": {
        "id": "Z2WvE_U600hm"
      },
      "source": [
        "Now we can open up the file. Here's a look at the first five rows "
      ]
    },
    {
      "cell_type": "code",
      "metadata": {
        "id": "UkfDOLSAI_me",
        "outputId": "4baaf89d-a345-4d58-9fbc-8719130c70e3",
        "colab": {
          "base_uri": "https://localhost:8080/",
          "height": 289
        }
      },
      "source": [
        "df_test= pd.read_csv('test_data.csv')\n",
        "df_test.head()"
      ],
      "execution_count": null,
      "outputs": [
        {
          "output_type": "execute_result",
          "data": {
            "text/html": [
              "<div>\n",
              "<style scoped>\n",
              "    .dataframe tbody tr th:only-of-type {\n",
              "        vertical-align: middle;\n",
              "    }\n",
              "\n",
              "    .dataframe tbody tr th {\n",
              "        vertical-align: top;\n",
              "    }\n",
              "\n",
              "    .dataframe thead th {\n",
              "        text-align: right;\n",
              "    }\n",
              "</style>\n",
              "<table border=\"1\" class=\"dataframe\">\n",
              "  <thead>\n",
              "    <tr style=\"text-align: right;\">\n",
              "      <th></th>\n",
              "      <th>Unnamed: 0</th>\n",
              "      <th>Order_ID</th>\n",
              "      <th>Product</th>\n",
              "      <th>Quantity_Ordered</th>\n",
              "      <th>Price_Each</th>\n",
              "      <th>Order_Date</th>\n",
              "      <th>Purchase_Address</th>\n",
              "    </tr>\n",
              "  </thead>\n",
              "  <tbody>\n",
              "    <tr>\n",
              "      <th>0</th>\n",
              "      <td>0</td>\n",
              "      <td>0</td>\n",
              "      <td>Santa Cruz Classic Dot 41\" Drop Through Longboard</td>\n",
              "      <td>1</td>\n",
              "      <td>1200.00</td>\n",
              "      <td>NaN</td>\n",
              "      <td>NaN</td>\n",
              "    </tr>\n",
              "    <tr>\n",
              "      <th>1</th>\n",
              "      <td>1</td>\n",
              "      <td>1</td>\n",
              "      <td>Polished Silver Standard Bullet Trucks</td>\n",
              "      <td>1</td>\n",
              "      <td>299.99</td>\n",
              "      <td>NaN</td>\n",
              "      <td>NaN</td>\n",
              "    </tr>\n",
              "    <tr>\n",
              "      <th>2</th>\n",
              "      <td>2</td>\n",
              "      <td>2</td>\n",
              "      <td>All In One Skate</td>\n",
              "      <td>1</td>\n",
              "      <td>88.95</td>\n",
              "      <td>NaN</td>\n",
              "      <td>NaN</td>\n",
              "    </tr>\n",
              "    <tr>\n",
              "      <th>3</th>\n",
              "      <td>3</td>\n",
              "      <td>3</td>\n",
              "      <td>55mm Sparx 99a Ricta Wheels</td>\n",
              "      <td>1</td>\n",
              "      <td>219.99</td>\n",
              "      <td>NaN</td>\n",
              "      <td>NaN</td>\n",
              "    </tr>\n",
              "    <tr>\n",
              "      <th>4</th>\n",
              "      <td>4</td>\n",
              "      <td>4</td>\n",
              "      <td>All In One Skate</td>\n",
              "      <td>1</td>\n",
              "      <td>88.95</td>\n",
              "      <td>NaN</td>\n",
              "      <td>NaN</td>\n",
              "    </tr>\n",
              "  </tbody>\n",
              "</table>\n",
              "</div>"
            ],
            "text/plain": [
              "   Unnamed: 0  Order_ID  ... Order_Date  Purchase_Address\n",
              "0           0         0  ...        NaN               NaN\n",
              "1           1         1  ...        NaN               NaN\n",
              "2           2         2  ...        NaN               NaN\n",
              "3           3         3  ...        NaN               NaN\n",
              "4           4         4  ...        NaN               NaN\n",
              "\n",
              "[5 rows x 7 columns]"
            ]
          },
          "metadata": {
            "tags": []
          },
          "execution_count": 5
        }
      ]
    },
    {
      "cell_type": "markdown",
      "metadata": {
        "id": "RWzW8-Bv1bj9"
      },
      "source": [
        "It looks like we have products that seem's kind of random and matches with prices from the dictionary"
      ]
    },
    {
      "cell_type": "markdown",
      "metadata": {
        "id": "jS90la3I3eDF"
      },
      "source": [
        "# selecting some products with higher probability than others \n"
      ]
    },
    {
      "cell_type": "markdown",
      "metadata": {
        "id": "h7CADZpf18pL"
      },
      "source": [
        "To make our data more realistic, we want to allow some products to show up more than others. Grip and Steackers to sell have such a low cost they should be purchased more proberly compared to the expensive Flat Bar. To do this, in addition to the price in the dictionary, we add a weight value. Maybe we expect the Flip Complete Board to be sold more than Element Complete Board and so on  "
      ]
    },
    {
      "cell_type": "code",
      "metadata": {
        "id": "xJO1IuzrJ4Rd"
      },
      "source": [
        "products = {\n",
        "    'Flip Complete Board': [1400, 10],\n",
        "    'Element Complete Board': [1200, 8],\n",
        "    'Oliveira Tin Toy Deck': [800, 3],\n",
        "    '55mm Sparx 99a Ricta Wheels': [219.99,6],\n",
        "    'Nike Nyjah 2': [758.99, 9],\n",
        "    'Nike Jacob Janowski': [778.99,9],\n",
        "    'Polished Silver Standard Bullet Trucks': [299.99, 11],\n",
        "    'Trasher hoodie': [600, 7],\n",
        "    'Element by Nigel Cabourn Alder 4 Jacket': [3400, 7],\n",
        "    'Flat Bar': [1899.99, 6],\n",
        "    'Grip': [26.84, 30],\n",
        "    'Steackers': [24.99, 30],\n",
        "    'Element ‑ Visserie Allen 1': [82.95, 30],\n",
        "    'All In One Skate': [88.95, 30],\n",
        "    'Supreme Cap': [79.99, 26],\n",
        "    'T-Shirt Colorblock vans': [189.99, 19],\n",
        "    'Black Standard Bullet Trucks': [300, 22],\n",
        "    'Mercer Flora Untamed 35\" Longboard': [1200.00, 1],\n",
        "    'Santa Cruz Classic Dot 41\" Drop Through Longboard': [1200.00, 1]\n",
        "}"
      ],
      "execution_count": null,
      "outputs": []
    },
    {
      "cell_type": "markdown",
      "metadata": {
        "id": "K0fQInSp4Jy_"
      },
      "source": [
        "Let's do the same process but this time considering the weight we added for each product "
      ]
    },
    {
      "cell_type": "code",
      "metadata": {
        "id": "rykKdv92J4qo"
      },
      "source": [
        "product_list = [product for product in products]\n",
        "price_list = [products[product][0] for product in products]\n",
        "weight_list = [products[product][1] for product in products]\n",
        "\n",
        "df = pd.DataFrame(columns=columns)\n",
        "for i in range(1000): \n",
        "  product = random.choices(product_list, weights=weight_list)[0]\n",
        "  price = products[product][0]\n",
        "  df.loc[i] = [i, product, 1, price, 'NA', 'NA']\n",
        "df.to_csv('test_data.csv')"
      ],
      "execution_count": null,
      "outputs": []
    },
    {
      "cell_type": "markdown",
      "metadata": {
        "id": "zq92o_nV77m-"
      },
      "source": [
        "# generating 12 month of data in 12 csvs"
      ]
    },
    {
      "cell_type": "markdown",
      "metadata": {
        "id": "wBuinR7S5HcQ"
      },
      "source": [
        "We want december to have the most items generated, maybe november to be the second most and the other month just kind of fluctuate around a certain value . Let's generate data for each month and also have that data fluctuate based on the month. The 1000 will no longer be static. We want some sort of like average value that we're selecting around and the values to appear around that average value. So the way to do it is using a normal distribution "
      ]
    },
    {
      "cell_type": "code",
      "metadata": {
        "id": "IEEtk2qm6ovi"
      },
      "source": [
        "import numpy as np \n",
        "#We grab the month name by using the calendar library \n",
        "import calendar "
      ],
      "execution_count": null,
      "outputs": []
    },
    {
      "cell_type": "code",
      "metadata": {
        "id": "wc8fyup38G2a"
      },
      "source": [
        " #random value to the order_id \n",
        " order_id = 143253 \n",
        " for month_value in range(1,13):\n",
        "   df=pd.DataFrame(columns=columns)\n",
        "   if month_value == 12 : \n",
        "     #make high value \n",
        "     orders_amounth = int(np.random.normal(loc=2600, scale=300))\n",
        "   if month_value == 11 : \n",
        "     #make slightly  higher\n",
        "     orders_amounth = int(np.random.normal(loc=2000, scale=300))\n",
        "   if month_value <= 10 : \n",
        "     orders_amounth = int(np.random.normal(loc=1200, scale=400))\n",
        "   for i in range(orders_amounth): \n",
        "      product = random.choices(product_list, weights=weight_list)[0]\n",
        "      price = products[product][0]\n",
        "      df.loc[i] = [order_id, product, 1, price, 'NA', 'NA']\n",
        "      order_id+=1\n",
        "   month_name = calendar.month_name[month_value]\n",
        "   df.to_csv(f'{month_name}.csv')\n",
        "   #we break so we don't generate all the months.\n",
        "   break"
      ],
      "execution_count": null,
      "outputs": []
    },
    {
      "cell_type": "markdown",
      "metadata": {
        "id": "9yKgqUib7B0o"
      },
      "source": [
        "# generating random addresses for our data"
      ]
    },
    {
      "cell_type": "markdown",
      "metadata": {
        "id": "88Ma1rOr88WK"
      },
      "source": [
        "we want to generate random addresses that looks realistic for each row. We did a simple google research to find the commun street names in that we can find in most of morrocan cities like avenue Mohammed VI and grab the popular cities with their zips. We also use weight because we need certain cities to pop more than others. The generate_random_adress function returns a random address "
      ]
    },
    {
      "cell_type": "code",
      "metadata": {
        "id": "klq9JY2R7DVK"
      },
      "source": [
        "def generate_random_adress():\n",
        "  street_names = ['Mohammed VI', 'Mohammed V', 'Abbess Ben Abdelmoutalib', 'Medina','El Siaghin', 'Essaada', 'Elfarah', 'Ennasr', 'Ville nouvelle', 'Hassan II']\n",
        "  cities = ['Marrakech', 'CasaBlanca', 'Rabat', 'Tanger', 'Essaouira', 'Fes', 'ElJadida', 'Tetouan', 'Oujda', 'Salé']\n",
        "  weights = [3,6,5,3,9,4,0.5,2,3,6]\n",
        "  zips = ['40000', '20000', '10000', '90000', '44000', '30000', '24000', '93000', '60000', '11000']\n",
        "\n",
        "  street = random.choice(street_names)\n",
        "  index = random.choices(range(len(cities)), weights= weights)[0] \n",
        "\n",
        "  return f'{random.randint(1,200)} AVN {street}, {cities[index]} {zips[index]}, Morroco'"
      ],
      "execution_count": null,
      "outputs": []
    },
    {
      "cell_type": "markdown",
      "metadata": {
        "id": "M1241s0rQ0-m"
      },
      "source": [
        "Here's an example of an address"
      ]
    },
    {
      "cell_type": "code",
      "metadata": {
        "id": "yCdjhkPd8iH5",
        "outputId": "8b416bf8-6188-498c-fee4-7c93217adb3d",
        "colab": {
          "base_uri": "https://localhost:8080/",
          "height": 34
        }
      },
      "source": [
        "print(generate_random_adress())"
      ],
      "execution_count": null,
      "outputs": [
        {
          "output_type": "stream",
          "text": [
            "66 AVN Hassan II, Oujda 60000, Morroco\n"
          ],
          "name": "stdout"
        }
      ]
    },
    {
      "cell_type": "markdown",
      "metadata": {
        "id": "wSlyfknBn4lg"
      },
      "source": [
        "# generating order times for purchases"
      ]
    },
    {
      "cell_type": "markdown",
      "metadata": {
        "id": "OBqOAssFTNz5"
      },
      "source": [
        "let's fill in the last NA and generate random order dates  for each of our rows of data. We aslo want the time for these purchases to peak around noon and 8pm and then all other times will kind of circle around those average times. The generate_order_time function return a date in the form of \"m/d/y H:M\""
      ]
    },
    {
      "cell_type": "code",
      "metadata": {
        "id": "FDI0birpb8Fm"
      },
      "source": [
        "import datetime as dt"
      ],
      "execution_count": null,
      "outputs": []
    },
    {
      "cell_type": "code",
      "metadata": {
        "id": "e3-RjkpCJS0v"
      },
      "source": [
        "def generate_order_time(month_value):\n",
        "  #number of days for each month\n",
        "  day_range = calendar.monthrange(2019, month_value)[1]\n",
        "  random_day = random.randint(1,day_range)\n",
        "  if random.random() < 0.5 :  \n",
        "    date = dt.datetime(2019, month_value, random_day, 12, 0)\n",
        "  else : \n",
        "    date = dt.datetime(2019, month_value, random_day, 20, 0)\n",
        "  time_offset = np.random.normal(loc=0, scale=180)\n",
        "\n",
        "  final_date = date + dt.timedelta(minutes = time_offset)\n",
        "\n",
        "  return final_date.strftime('%m/%d/%y %H:%M')"
      ],
      "execution_count": null,
      "outputs": []
    },
    {
      "cell_type": "markdown",
      "metadata": {
        "id": "82GZcGodiTm5"
      },
      "source": [
        "# Generating a realistic quantity ordered for each product "
      ]
    },
    {
      "cell_type": "markdown",
      "metadata": {
        "id": "Jt2BJ3xMkzZe"
      },
      "source": [
        "If we go back to our products, a  flat costs 1899.99 DHS , a client is not very likely to purchase two of them or even less likely to purchase three. However a grip that costs less than 30 DHS you have a much higher probability of purchasing maybe a few packs o those. Same thing with steackers and caps. The quantity ordered of an item depands on the price. To do that, we use a geometric distribution   "
      ]
    },
    {
      "cell_type": "code",
      "metadata": {
        "id": "aWL5XJT954j0"
      },
      "source": [
        "quantity_ordered = np.random.geometric(p= 1 - 1/price, size= 1)[0]"
      ],
      "execution_count": null,
      "outputs": []
    },
    {
      "cell_type": "markdown",
      "metadata": {
        "id": "FuSO4Mo6q8Bh"
      },
      "source": [
        "# Adding multiple items being more likely to be sold together "
      ]
    },
    {
      "cell_type": "markdown",
      "metadata": {
        "id": "BRndC3ddy5tS"
      },
      "source": [
        "Oftentimes When you're shopping, you're not bying one item but multiple items at a time. For example if you order a flip board , you would also likely pick up an extra All In One Skate or maybe some Black Standard Bullet Trucks.\n",
        "We want them to have the same order_id, order_date and adress. And to make our data a little bit messy let's add some blank rows and some rows with column names "
      ]
    },
    {
      "cell_type": "code",
      "metadata": {
        "id": "suOrDmeUHUU4"
      },
      "source": [
        "def write_row(order_id, product, date, adress):\n",
        "  price = products[product][0]\n",
        "  quantity_ordered = np.random.geometric(p= 1.0 - (1.0/price), size= 1)[0]\n",
        "  output = [order_id, product, quantity_ordered, price, date, adress]\n",
        "  return output"
      ],
      "execution_count": null,
      "outputs": []
    },
    {
      "cell_type": "code",
      "metadata": {
        "id": "hOmOuYrMLDn9"
      },
      "source": [
        "order_id = 143253 \n",
        "for month_value in range(1,13):\n",
        "  df=pd.DataFrame(columns=columns)\n",
        "  # Make some months have more purchases than others\n",
        "  if month_value == 12 : \n",
        "    orders_amounth = int(np.random.normal(loc=2600, scale=300))\n",
        "  if month_value == 11 :  \n",
        "    orders_amounth = int(np.random.normal(loc=2000, scale=300))\n",
        "  if month_value <= 10 : \n",
        "    orders_amounth = int(np.random.normal(loc=1200, scale=400))\n",
        "  \n",
        "  i=0\n",
        "  while orders_amounth > 0: \n",
        "    # get a random address\n",
        "    adress = generate_random_adress()\n",
        "    # get a random product \n",
        "    product = random.choices(product_list, weights=weight_list)[0]\n",
        "    # get a random date\n",
        "    date = generate_order_time(month_value)\n",
        "    # fill the row \n",
        "    df.loc[i] = write_row(order_id, product, date, adress)\n",
        "    i+=1 \n",
        "    # Flip Complete Board more likely to be sold with All In One Skate, Black Standard Bullet Trucks and Supreme Cap\n",
        "    if product == 'Flip Complete Board':\n",
        "      if random.random() < 0.15:\n",
        "        df.loc[i] = write_row(order_id, 'All In One Skate', date, adress)\n",
        "        i+=1\n",
        "      if random.random() < 0.05:\n",
        "        df.loc[i] = write_row(order_id, 'Black Standard Bullet Trucks', date, adress)\n",
        "        i+=1\n",
        "      if random.random() < 0.07:\n",
        "        df.loc[i] = write_row(order_id, 'Supreme Cap', date, adress)\n",
        "        i+=1\n",
        "    # Element Complete Board and Oliveira Tin Toy Deck more likely to be sold with Element ‑ Visserie Allen 1\n",
        "    elif product == 'Element Complete Board' or product == \"Oliveira Tin Toy Deck\":\n",
        "        if random.random() < 0.18:\n",
        "          df.loc[i] = write_row(order_id, \"Element ‑ Visserie Allen 1\", date, adress)\n",
        "          i += 1\n",
        "        if random.random() < 0.04:\n",
        "          df.loc[i] = write_row(order_id, \"T-Shirt Colorblock vans\", date, adress)\n",
        "          i += 1\n",
        "        if random.random() < 0.07:\n",
        "          df.loc[i] = write_row(order_id, \"Supreme Cap\", date, adress)\n",
        "          i += 1 \n",
        "    # 2% chance we get an old item with our initial product\n",
        "    if random.random() <= 0.02:\n",
        "        product = random.choices(product_list, weight_list)[0]\n",
        "        df.loc[i] = write_row(order_id, product, date, adress)\n",
        "        i += 1\n",
        "    # make our data messy we fill some rows with column names\n",
        "    if random.random() <= 0.002:\n",
        "        df.loc[i] = columns\n",
        "        i += 1\n",
        "    # blank rows\n",
        "    if random.random() <= 0.003:\n",
        "        df.loc[i] = [\"\",\"\",\"\",\"\",\"\",\"\"]\n",
        "        i += 1\n",
        "           \n",
        "      \n",
        "    order_id+=1\n",
        "    orders_amounth-=1\n",
        "  month_name = calendar.month_name[month_value]\n",
        "  df.to_csv(f'Sales_{month_name}_2019.csv')\n"
      ],
      "execution_count": null,
      "outputs": []
    },
    {
      "cell_type": "markdown",
      "metadata": {
        "id": "kCOY1Io_ZRgJ"
      },
      "source": [
        "There we have it: 12months of sales data.\n",
        "To do that, we started by creating a simple dataframe and programmatically adding rows of product purchases to it. We use the random library to select these products.\n",
        "\n",
        "We make our data more realistic by utilizing normal distributions and geometric distributions in numpy to spread out the number of purchases we make and the quantity of each item purchased.\n",
        "\n",
        "We use the datetime library to allow us to generate thousands of different times for each purchase with the most common times peaking around 12pm and 8pm.\n",
        "\n",
        "We take a list of the most common morrocan street addresses to help us randomly generate addresses for each purchases.\n",
        "\n",
        "We use numpy geometric distribution to generate a realistic quantity ordered for each product We use numpy geometric distribution\n",
        "\n",
        "and finally add multiple items being more likely to be sold togethe"
      ]
    }
  ]
}