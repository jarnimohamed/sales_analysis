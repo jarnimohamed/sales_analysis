{
  "nbformat": 4,
  "nbformat_minor": 0,
  "metadata": {
    "colab": {
      "name": "2019_sales_analysis.ipynb",
      "provenance": [],
      "collapsed_sections": []
    },
    "kernelspec": {
      "name": "python3",
      "display_name": "Python 3"
    }
  },
  "cells": [
    {
      "cell_type": "markdown",
      "metadata": {
        "id": "JiCCQYHHdwsg"
      },
      "source": [
        "Let's analyze and answer business questions about 12 months worth of sales data. The data contains thousands of skateboarding store purchases broken down by month, product type, cost, purchase address, etc. \n"
      ]
    },
    {
      "cell_type": "markdown",
      "metadata": {
        "id": "exixF_iteAa5"
      },
      "source": [
        "To get started, we download the data that is found on 2019_sales_data then we import them into colab files  "
      ]
    },
    {
      "cell_type": "code",
      "metadata": {
        "id": "_IVfPumkd8-0",
        "outputId": "5dc00367-b5fc-43db-b43b-3e6df0b28571",
        "colab": {
          "resources": {
            "http://localhost:8080/nbextensions/google.colab/files.js": {
              "data": "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",
              "ok": true,
              "headers": [
                [
                  "content-type",
                  "application/javascript"
                ]
              ],
              "status": 200,
              "status_text": ""
            }
          },
          "base_uri": "https://localhost:8080/",
          "height": 446
        }
      },
      "source": [
        "from google.colab import files\n",
        "uploaded = files.upload()"
      ],
      "execution_count": null,
      "outputs": [
        {
          "output_type": "display_data",
          "data": {
            "text/html": [
              "\n",
              "     <input type=\"file\" id=\"files-eb532c5b-63b9-4b6e-a897-f84419b839d0\" name=\"files[]\" multiple disabled\n",
              "        style=\"border:none\" />\n",
              "     <output id=\"result-eb532c5b-63b9-4b6e-a897-f84419b839d0\">\n",
              "      Upload widget is only available when the cell has been executed in the\n",
              "      current browser session. Please rerun this cell to enable.\n",
              "      </output>\n",
              "      <script src=\"/nbextensions/google.colab/files.js\"></script> "
            ],
            "text/plain": [
              "<IPython.core.display.HTML object>"
            ]
          },
          "metadata": {
            "tags": []
          }
        },
        {
          "output_type": "stream",
          "text": [
            "Saving Sales_April_2019.csv to Sales_April_2019.csv\n",
            "Saving Sales_August_2019.csv to Sales_August_2019.csv\n",
            "Saving Sales_December_2019.csv to Sales_December_2019.csv\n",
            "Saving Sales_February_2019.csv to Sales_February_2019.csv\n",
            "Saving Sales_January_2019.csv to Sales_January_2019.csv\n",
            "Saving Sales_July_2019.csv to Sales_July_2019.csv\n",
            "Saving Sales_June_2019.csv to Sales_June_2019.csv\n",
            "Saving Sales_March_2019.csv to Sales_March_2019.csv\n",
            "Saving Sales_May_2019.csv to Sales_May_2019.csv\n",
            "Saving Sales_November_2019.csv to Sales_November_2019.csv\n",
            "Saving Sales_October_2019.csv to Sales_October_2019.csv\n",
            "Saving Sales_September_2019.csv to Sales_September_2019.csv\n"
          ],
          "name": "stdout"
        }
      ]
    },
    {
      "cell_type": "markdown",
      "metadata": {
        "id": "c89nj4rQf5Ni"
      },
      "source": [
        "It look's like we have 12 Csv files. We need to Concatenate them together to create a new DataFrame by using pd.concat"
      ]
    },
    {
      "cell_type": "code",
      "metadata": {
        "id": "M2bDpKK0fXMJ"
      },
      "source": [
        "import pandas as pd \n",
        "import glob"
      ],
      "execution_count": null,
      "outputs": []
    },
    {
      "cell_type": "code",
      "metadata": {
        "id": "rhGP7AXUgODl"
      },
      "source": [
        "#list of files\n",
        "path ='/content'\n",
        "months = glob.glob(path + \"/*2019.csv\")\n",
        "#combine all files in the list\n",
        "all_months = pd.concat([pd.read_csv(m) for m in months ])\n",
        "#export to csv\n",
        "all_months.to_csv('Sales_2019.csv',index = False)"
      ],
      "execution_count": null,
      "outputs": []
    },
    {
      "cell_type": "markdown",
      "metadata": {
        "id": "1fjl-GvBgeUo"
      },
      "source": [
        "We now have a csv called 'Sales_2019.csv' that contains all the data. Let's take a look at the first five rows of the updated dataframe"
      ]
    },
    {
      "cell_type": "code",
      "metadata": {
        "id": "18KSBkdXgQmg",
        "outputId": "b34d1bd1-464d-4375-93f2-d1f2c668c3a9",
        "colab": {
          "base_uri": "https://localhost:8080/",
          "height": 204
        }
      },
      "source": [
        "year = pd.read_csv('Sales_2019.csv')\n",
        "year.head()"
      ],
      "execution_count": null,
      "outputs": [
        {
          "output_type": "execute_result",
          "data": {
            "text/html": [
              "<div>\n",
              "<style scoped>\n",
              "    .dataframe tbody tr th:only-of-type {\n",
              "        vertical-align: middle;\n",
              "    }\n",
              "\n",
              "    .dataframe tbody tr th {\n",
              "        vertical-align: top;\n",
              "    }\n",
              "\n",
              "    .dataframe thead th {\n",
              "        text-align: right;\n",
              "    }\n",
              "</style>\n",
              "<table border=\"1\" class=\"dataframe\">\n",
              "  <thead>\n",
              "    <tr style=\"text-align: right;\">\n",
              "      <th></th>\n",
              "      <th>Unnamed: 0</th>\n",
              "      <th>Order_ID</th>\n",
              "      <th>Product</th>\n",
              "      <th>Quantity_Ordered</th>\n",
              "      <th>Price_Each</th>\n",
              "      <th>Order_Date</th>\n",
              "      <th>Purchase_Address</th>\n",
              "    </tr>\n",
              "  </thead>\n",
              "  <tbody>\n",
              "    <tr>\n",
              "      <th>0</th>\n",
              "      <td>0</td>\n",
              "      <td>155009</td>\n",
              "      <td>Element ‑ Visserie Allen 1</td>\n",
              "      <td>1</td>\n",
              "      <td>82.95</td>\n",
              "      <td>10/29/19 16:15</td>\n",
              "      <td>107 AVN Medina, CasaBlanca 20000, Morroco</td>\n",
              "    </tr>\n",
              "    <tr>\n",
              "      <th>1</th>\n",
              "      <td>1</td>\n",
              "      <td>155010</td>\n",
              "      <td>Grip</td>\n",
              "      <td>1</td>\n",
              "      <td>26.84</td>\n",
              "      <td>10/25/19 18:09</td>\n",
              "      <td>126 AVN Mohammed VI, Rabat 10000, Morroco</td>\n",
              "    </tr>\n",
              "    <tr>\n",
              "      <th>2</th>\n",
              "      <td>2</td>\n",
              "      <td>155011</td>\n",
              "      <td>Element ‑ Visserie Allen 1</td>\n",
              "      <td>1</td>\n",
              "      <td>82.95</td>\n",
              "      <td>10/08/19 15:26</td>\n",
              "      <td>65 AVN El Siaghin, Fes 30000, Morroco</td>\n",
              "    </tr>\n",
              "    <tr>\n",
              "      <th>3</th>\n",
              "      <td>3</td>\n",
              "      <td>155012</td>\n",
              "      <td>T-Shirt Colorblock vans</td>\n",
              "      <td>1</td>\n",
              "      <td>189.99</td>\n",
              "      <td>10/05/19 10:36</td>\n",
              "      <td>183 AVN Ville nouvelle, Essaouira 44000, Morroco</td>\n",
              "    </tr>\n",
              "    <tr>\n",
              "      <th>4</th>\n",
              "      <td>4</td>\n",
              "      <td>155013</td>\n",
              "      <td>Steackers</td>\n",
              "      <td>1</td>\n",
              "      <td>24.99</td>\n",
              "      <td>10/01/19 23:08</td>\n",
              "      <td>87 AVN Essaada, Fes 30000, Morroco</td>\n",
              "    </tr>\n",
              "  </tbody>\n",
              "</table>\n",
              "</div>"
            ],
            "text/plain": [
              "   Unnamed: 0  ...                                  Purchase_Address\n",
              "0           0  ...         107 AVN Medina, CasaBlanca 20000, Morroco\n",
              "1           1  ...         126 AVN Mohammed VI, Rabat 10000, Morroco\n",
              "2           2  ...             65 AVN El Siaghin, Fes 30000, Morroco\n",
              "3           3  ...  183 AVN Ville nouvelle, Essaouira 44000, Morroco\n",
              "4           4  ...                87 AVN Essaada, Fes 30000, Morroco\n",
              "\n",
              "[5 rows x 7 columns]"
            ]
          },
          "metadata": {
            "tags": []
          },
          "execution_count": 4
        }
      ]
    },
    {
      "cell_type": "markdown",
      "metadata": {
        "id": "VM6ysj-JiERk"
      },
      "source": [
        "# Cleaning the data "
      ]
    },
    {
      "cell_type": "code",
      "metadata": {
        "id": "h0ZQVo8dhVkX"
      },
      "source": [
        "#We get rid of this unnecessary column \n",
        "year.drop('Unnamed: 0', axis=1, inplace=True)"
      ],
      "execution_count": null,
      "outputs": []
    },
    {
      "cell_type": "code",
      "metadata": {
        "id": "n-eKVx9ghpXY",
        "outputId": "782c4d31-c1b4-483b-d26a-7a1feee03d3a",
        "colab": {
          "base_uri": "https://localhost:8080/"
        }
      },
      "source": [
        "#How many Nan value we have ? \n",
        "year['Order_Date'].isna().value_counts()"
      ],
      "execution_count": null,
      "outputs": [
        {
          "output_type": "execute_result",
          "data": {
            "text/plain": [
              "False    18707\n",
              "True        54\n",
              "Name: Order_Date, dtype: int64"
            ]
          },
          "metadata": {
            "tags": []
          },
          "execution_count": 6
        }
      ]
    },
    {
      "cell_type": "code",
      "metadata": {
        "id": "Kiu5DvJOikTw"
      },
      "source": [
        "#Drop NaN values from DataFrame\n",
        "year.dropna(how='any', inplace=True)"
      ],
      "execution_count": null,
      "outputs": []
    },
    {
      "cell_type": "markdown",
      "metadata": {
        "id": "wIQ8FdMijvA_"
      },
      "source": [
        "#Adding month column "
      ]
    },
    {
      "cell_type": "markdown",
      "metadata": {
        "id": "un2pu9VikDM9"
      },
      "source": [
        "We don't have the month currently but we have dates for each of our products that were sold. The easiest solution to add a month column would be to just take the first two characters in the date string"
      ]
    },
    {
      "cell_type": "code",
      "metadata": {
        "id": "6tZeNeUJj0ls",
        "outputId": "8e6faf8e-ca11-4d39-c858-518e42b99ff9",
        "colab": {
          "base_uri": "https://localhost:8080/",
          "height": 204
        }
      },
      "source": [
        "year['Month'] = year['Order_Date'].str[:2]\n",
        "year.head()"
      ],
      "execution_count": null,
      "outputs": [
        {
          "output_type": "execute_result",
          "data": {
            "text/html": [
              "<div>\n",
              "<style scoped>\n",
              "    .dataframe tbody tr th:only-of-type {\n",
              "        vertical-align: middle;\n",
              "    }\n",
              "\n",
              "    .dataframe tbody tr th {\n",
              "        vertical-align: top;\n",
              "    }\n",
              "\n",
              "    .dataframe thead th {\n",
              "        text-align: right;\n",
              "    }\n",
              "</style>\n",
              "<table border=\"1\" class=\"dataframe\">\n",
              "  <thead>\n",
              "    <tr style=\"text-align: right;\">\n",
              "      <th></th>\n",
              "      <th>Order_ID</th>\n",
              "      <th>Product</th>\n",
              "      <th>Quantity_Ordered</th>\n",
              "      <th>Price_Each</th>\n",
              "      <th>Order_Date</th>\n",
              "      <th>Purchase_Address</th>\n",
              "      <th>Month</th>\n",
              "    </tr>\n",
              "  </thead>\n",
              "  <tbody>\n",
              "    <tr>\n",
              "      <th>0</th>\n",
              "      <td>155009</td>\n",
              "      <td>Element ‑ Visserie Allen 1</td>\n",
              "      <td>1</td>\n",
              "      <td>82.95</td>\n",
              "      <td>10/29/19 16:15</td>\n",
              "      <td>107 AVN Medina, CasaBlanca 20000, Morroco</td>\n",
              "      <td>10</td>\n",
              "    </tr>\n",
              "    <tr>\n",
              "      <th>1</th>\n",
              "      <td>155010</td>\n",
              "      <td>Grip</td>\n",
              "      <td>1</td>\n",
              "      <td>26.84</td>\n",
              "      <td>10/25/19 18:09</td>\n",
              "      <td>126 AVN Mohammed VI, Rabat 10000, Morroco</td>\n",
              "      <td>10</td>\n",
              "    </tr>\n",
              "    <tr>\n",
              "      <th>2</th>\n",
              "      <td>155011</td>\n",
              "      <td>Element ‑ Visserie Allen 1</td>\n",
              "      <td>1</td>\n",
              "      <td>82.95</td>\n",
              "      <td>10/08/19 15:26</td>\n",
              "      <td>65 AVN El Siaghin, Fes 30000, Morroco</td>\n",
              "      <td>10</td>\n",
              "    </tr>\n",
              "    <tr>\n",
              "      <th>3</th>\n",
              "      <td>155012</td>\n",
              "      <td>T-Shirt Colorblock vans</td>\n",
              "      <td>1</td>\n",
              "      <td>189.99</td>\n",
              "      <td>10/05/19 10:36</td>\n",
              "      <td>183 AVN Ville nouvelle, Essaouira 44000, Morroco</td>\n",
              "      <td>10</td>\n",
              "    </tr>\n",
              "    <tr>\n",
              "      <th>4</th>\n",
              "      <td>155013</td>\n",
              "      <td>Steackers</td>\n",
              "      <td>1</td>\n",
              "      <td>24.99</td>\n",
              "      <td>10/01/19 23:08</td>\n",
              "      <td>87 AVN Essaada, Fes 30000, Morroco</td>\n",
              "      <td>10</td>\n",
              "    </tr>\n",
              "  </tbody>\n",
              "</table>\n",
              "</div>"
            ],
            "text/plain": [
              "  Order_ID  ... Month\n",
              "0   155009  ...    10\n",
              "1   155010  ...    10\n",
              "2   155011  ...    10\n",
              "3   155012  ...    10\n",
              "4   155013  ...    10\n",
              "\n",
              "[5 rows x 7 columns]"
            ]
          },
          "metadata": {
            "tags": []
          },
          "execution_count": 8
        }
      ]
    },
    {
      "cell_type": "code",
      "metadata": {
        "id": "W5UigL9RkwI7",
        "outputId": "bebae56f-5ee2-4e3e-a6b8-e4fb79d5c5f0",
        "colab": {
          "base_uri": "https://localhost:8080/"
        }
      },
      "source": [
        "year['Month'].value_counts()"
      ],
      "execution_count": null,
      "outputs": [
        {
          "output_type": "execute_result",
          "data": {
            "text/plain": [
              "12    2980\n",
              "11    2303\n",
              "01    1686\n",
              "05    1632\n",
              "02    1602\n",
              "07    1528\n",
              "09    1403\n",
              "03    1267\n",
              "08    1214\n",
              "10    1160\n",
              "06    1108\n",
              "04     787\n",
              "Or      37\n",
              "Name: Month, dtype: int64"
            ]
          },
          "metadata": {
            "tags": []
          },
          "execution_count": 9
        }
      ]
    },
    {
      "cell_type": "markdown",
      "metadata": {
        "id": "pJpiByPMk--f"
      },
      "source": [
        "a month value should probabely be numerical value but it looks like we have an 'Or' value that we have to get rid of  "
      ]
    },
    {
      "cell_type": "code",
      "metadata": {
        "id": "r_JIcXUCk8Bb"
      },
      "source": [
        "year = year[year['Order_Date'].str[:2]!='Or']\n",
        "year['Month'] = pd.to_numeric(year['Month'])"
      ],
      "execution_count": null,
      "outputs": []
    },
    {
      "cell_type": "markdown",
      "metadata": {
        "id": "uVhWo4LNmA-I"
      },
      "source": [
        "#Adding sales column"
      ]
    },
    {
      "cell_type": "markdown",
      "metadata": {
        "id": "E-kCZjONmPG_"
      },
      "source": [
        "Qantity_ordered time price_each will give us our sales "
      ]
    },
    {
      "cell_type": "code",
      "metadata": {
        "id": "4G3GpqJRmdzT",
        "outputId": "9e9ddc9a-2f7d-4702-9f17-9f5faea3c76b",
        "colab": {
          "base_uri": "https://localhost:8080/",
          "height": 204
        }
      },
      "source": [
        "year['Quantity_Ordered'] = pd.to_numeric(year['Quantity_Ordered'])\n",
        "year['Price_Each'] = pd.to_numeric(year['Price_Each'])\n",
        "year['Sales']= year['Quantity_Ordered'] * year['Price_Each']\n",
        "year.head()"
      ],
      "execution_count": null,
      "outputs": [
        {
          "output_type": "execute_result",
          "data": {
            "text/html": [
              "<div>\n",
              "<style scoped>\n",
              "    .dataframe tbody tr th:only-of-type {\n",
              "        vertical-align: middle;\n",
              "    }\n",
              "\n",
              "    .dataframe tbody tr th {\n",
              "        vertical-align: top;\n",
              "    }\n",
              "\n",
              "    .dataframe thead th {\n",
              "        text-align: right;\n",
              "    }\n",
              "</style>\n",
              "<table border=\"1\" class=\"dataframe\">\n",
              "  <thead>\n",
              "    <tr style=\"text-align: right;\">\n",
              "      <th></th>\n",
              "      <th>Order_ID</th>\n",
              "      <th>Product</th>\n",
              "      <th>Quantity_Ordered</th>\n",
              "      <th>Price_Each</th>\n",
              "      <th>Order_Date</th>\n",
              "      <th>Purchase_Address</th>\n",
              "      <th>Month</th>\n",
              "      <th>Sales</th>\n",
              "    </tr>\n",
              "  </thead>\n",
              "  <tbody>\n",
              "    <tr>\n",
              "      <th>0</th>\n",
              "      <td>155009</td>\n",
              "      <td>Element ‑ Visserie Allen 1</td>\n",
              "      <td>1.0</td>\n",
              "      <td>82.95</td>\n",
              "      <td>10/29/19 16:15</td>\n",
              "      <td>107 AVN Medina, CasaBlanca 20000, Morroco</td>\n",
              "      <td>10</td>\n",
              "      <td>82.95</td>\n",
              "    </tr>\n",
              "    <tr>\n",
              "      <th>1</th>\n",
              "      <td>155010</td>\n",
              "      <td>Grip</td>\n",
              "      <td>1.0</td>\n",
              "      <td>26.84</td>\n",
              "      <td>10/25/19 18:09</td>\n",
              "      <td>126 AVN Mohammed VI, Rabat 10000, Morroco</td>\n",
              "      <td>10</td>\n",
              "      <td>26.84</td>\n",
              "    </tr>\n",
              "    <tr>\n",
              "      <th>2</th>\n",
              "      <td>155011</td>\n",
              "      <td>Element ‑ Visserie Allen 1</td>\n",
              "      <td>1.0</td>\n",
              "      <td>82.95</td>\n",
              "      <td>10/08/19 15:26</td>\n",
              "      <td>65 AVN El Siaghin, Fes 30000, Morroco</td>\n",
              "      <td>10</td>\n",
              "      <td>82.95</td>\n",
              "    </tr>\n",
              "    <tr>\n",
              "      <th>3</th>\n",
              "      <td>155012</td>\n",
              "      <td>T-Shirt Colorblock vans</td>\n",
              "      <td>1.0</td>\n",
              "      <td>189.99</td>\n",
              "      <td>10/05/19 10:36</td>\n",
              "      <td>183 AVN Ville nouvelle, Essaouira 44000, Morroco</td>\n",
              "      <td>10</td>\n",
              "      <td>189.99</td>\n",
              "    </tr>\n",
              "    <tr>\n",
              "      <th>4</th>\n",
              "      <td>155013</td>\n",
              "      <td>Steackers</td>\n",
              "      <td>1.0</td>\n",
              "      <td>24.99</td>\n",
              "      <td>10/01/19 23:08</td>\n",
              "      <td>87 AVN Essaada, Fes 30000, Morroco</td>\n",
              "      <td>10</td>\n",
              "      <td>24.99</td>\n",
              "    </tr>\n",
              "  </tbody>\n",
              "</table>\n",
              "</div>"
            ],
            "text/plain": [
              "  Order_ID                     Product  ...  Month   Sales\n",
              "0   155009  Element ‑ Visserie Allen 1  ...     10   82.95\n",
              "1   155010                        Grip  ...     10   26.84\n",
              "2   155011  Element ‑ Visserie Allen 1  ...     10   82.95\n",
              "3   155012     T-Shirt Colorblock vans  ...     10  189.99\n",
              "4   155013                   Steackers  ...     10   24.99\n",
              "\n",
              "[5 rows x 8 columns]"
            ]
          },
          "metadata": {
            "tags": []
          },
          "execution_count": 11
        }
      ]
    },
    {
      "cell_type": "markdown",
      "metadata": {
        "id": "NQJ9Xol5miD7"
      },
      "source": [
        "#Question1 : what was the best month of sales ? how much was earned that month?"
      ]
    },
    {
      "cell_type": "markdown",
      "metadata": {
        "id": "pVYt1gDdln_t"
      },
      "source": [
        "Now that we have successfully added a month column, added a sales column. Let's answer the question what was the best month of sales. We can do this pretty easily with a groupby function and plot the results"
      ]
    },
    {
      "cell_type": "code",
      "metadata": {
        "id": "zhJakWrundSX",
        "outputId": "84d06d78-fabf-44b4-e430-fba33ac97bea",
        "colab": {
          "base_uri": "https://localhost:8080/"
        }
      },
      "source": [
        "year.groupby(['Month'])['Sales'].sum()"
      ],
      "execution_count": null,
      "outputs": [
        {
          "output_type": "execute_result",
          "data": {
            "text/plain": [
              "Month\n",
              "1      614205.45\n",
              "2      648517.30\n",
              "3      491766.69\n",
              "4      306046.03\n",
              "5      651663.44\n",
              "6      421395.38\n",
              "7      620597.84\n",
              "8      515000.22\n",
              "9      526127.99\n",
              "10     461673.46\n",
              "11     892008.21\n",
              "12    1155290.43\n",
              "Name: Sales, dtype: float64"
            ]
          },
          "metadata": {
            "tags": []
          },
          "execution_count": 13
        }
      ]
    },
    {
      "cell_type": "markdown",
      "metadata": {
        "id": "K40_6Xi-olJL"
      },
      "source": [
        "December was the best month of sales with approximately over 100million DHS and then worst month was april with 30million  DHS  "
      ]
    },
    {
      "cell_type": "code",
      "metadata": {
        "id": "VNzuJcM_mjQR"
      },
      "source": [
        "import matplotlib.pyplot as plt"
      ],
      "execution_count": null,
      "outputs": []
    },
    {
      "cell_type": "code",
      "metadata": {
        "id": "VRJggXUNq6NG",
        "outputId": "c5cc1c82-6b33-48c4-9bf4-985781e47836",
        "colab": {
          "base_uri": "https://localhost:8080/",
          "height": 525
        }
      },
      "source": [
        "months = range(1,13)\n",
        "results = year.groupby(['Month']).sum()\n",
        "plt.figure(figsize=(14,8))\n",
        "plt.bar(months, results['Sales'] , color='c')\n",
        "plt.xticks(months)\n",
        "plt.xlabel('months')\n",
        "plt.ylabel('sales in USD')"
      ],
      "execution_count": null,
      "outputs": [
        {
          "output_type": "execute_result",
          "data": {
            "text/plain": [
              "Text(0, 0.5, 'sales in USD')"
            ]
          },
          "metadata": {
            "tags": []
          },
          "execution_count": 16
        },
        {
          "output_type": "display_data",
          "data": {
            "image/png": "[encoded data removed]",
            "text/plain": [
              "<Figure size 1008x576 with 1 Axes>"
            ]
          },
          "metadata": {
            "tags": [],
            "needs_background": "light"
          }
        }
      ]
    },
    {
      "cell_type": "markdown",
      "metadata": {
        "id": "qVNjhhMtnPEJ"
      },
      "source": [
        "Why would we do so much better in december and november compared to other months. Did we spent more money in advertising?  We try to look for correlations that probably led to these better results. In the month of december we think about internationnal holidays, all people are buying a lot of gifts for each others so it makes sense that december has the most number of sales."
      ]
    },
    {
      "cell_type": "markdown",
      "metadata": {
        "id": "4sY9BhXDrDYd"
      },
      "source": [
        "#Question2 : what city had the highest number of sales ? \n"
      ]
    },
    {
      "cell_type": "code",
      "metadata": {
        "id": "3XpStp1CnHQG",
        "outputId": "99725215-00d7-4081-9096-d1d8eb91b7e8",
        "colab": {
          "base_uri": "https://localhost:8080/",
          "height": 204
        }
      },
      "source": [
        "year.head()"
      ],
      "execution_count": null,
      "outputs": [
        {
          "output_type": "execute_result",
          "data": {
            "text/html": [
              "<div>\n",
              "<style scoped>\n",
              "    .dataframe tbody tr th:only-of-type {\n",
              "        vertical-align: middle;\n",
              "    }\n",
              "\n",
              "    .dataframe tbody tr th {\n",
              "        vertical-align: top;\n",
              "    }\n",
              "\n",
              "    .dataframe thead th {\n",
              "        text-align: right;\n",
              "    }\n",
              "</style>\n",
              "<table border=\"1\" class=\"dataframe\">\n",
              "  <thead>\n",
              "    <tr style=\"text-align: right;\">\n",
              "      <th></th>\n",
              "      <th>Order_ID</th>\n",
              "      <th>Product</th>\n",
              "      <th>Quantity_Ordered</th>\n",
              "      <th>Price_Each</th>\n",
              "      <th>Order_Date</th>\n",
              "      <th>Purchase_Address</th>\n",
              "      <th>Month</th>\n",
              "      <th>Sales</th>\n",
              "    </tr>\n",
              "  </thead>\n",
              "  <tbody>\n",
              "    <tr>\n",
              "      <th>0</th>\n",
              "      <td>155009</td>\n",
              "      <td>Element ‑ Visserie Allen 1</td>\n",
              "      <td>1.0</td>\n",
              "      <td>82.95</td>\n",
              "      <td>10/29/19 16:15</td>\n",
              "      <td>107 AVN Medina, CasaBlanca 20000, Morroco</td>\n",
              "      <td>10</td>\n",
              "      <td>82.95</td>\n",
              "    </tr>\n",
              "    <tr>\n",
              "      <th>1</th>\n",
              "      <td>155010</td>\n",
              "      <td>Grip</td>\n",
              "      <td>1.0</td>\n",
              "      <td>26.84</td>\n",
              "      <td>10/25/19 18:09</td>\n",
              "      <td>126 AVN Mohammed VI, Rabat 10000, Morroco</td>\n",
              "      <td>10</td>\n",
              "      <td>26.84</td>\n",
              "    </tr>\n",
              "    <tr>\n",
              "      <th>2</th>\n",
              "      <td>155011</td>\n",
              "      <td>Element ‑ Visserie Allen 1</td>\n",
              "      <td>1.0</td>\n",
              "      <td>82.95</td>\n",
              "      <td>10/08/19 15:26</td>\n",
              "      <td>65 AVN El Siaghin, Fes 30000, Morroco</td>\n",
              "      <td>10</td>\n",
              "      <td>82.95</td>\n",
              "    </tr>\n",
              "    <tr>\n",
              "      <th>3</th>\n",
              "      <td>155012</td>\n",
              "      <td>T-Shirt Colorblock vans</td>\n",
              "      <td>1.0</td>\n",
              "      <td>189.99</td>\n",
              "      <td>10/05/19 10:36</td>\n",
              "      <td>183 AVN Ville nouvelle, Essaouira 44000, Morroco</td>\n",
              "      <td>10</td>\n",
              "      <td>189.99</td>\n",
              "    </tr>\n",
              "    <tr>\n",
              "      <th>4</th>\n",
              "      <td>155013</td>\n",
              "      <td>Steackers</td>\n",
              "      <td>1.0</td>\n",
              "      <td>24.99</td>\n",
              "      <td>10/01/19 23:08</td>\n",
              "      <td>87 AVN Essaada, Fes 30000, Morroco</td>\n",
              "      <td>10</td>\n",
              "      <td>24.99</td>\n",
              "    </tr>\n",
              "  </tbody>\n",
              "</table>\n",
              "</div>"
            ],
            "text/plain": [
              "  Order_ID                     Product  ...  Month   Sales\n",
              "0   155009  Element ‑ Visserie Allen 1  ...     10   82.95\n",
              "1   155010                        Grip  ...     10   26.84\n",
              "2   155011  Element ‑ Visserie Allen 1  ...     10   82.95\n",
              "3   155012     T-Shirt Colorblock vans  ...     10  189.99\n",
              "4   155013                   Steackers  ...     10   24.99\n",
              "\n",
              "[5 rows x 8 columns]"
            ]
          },
          "metadata": {
            "tags": []
          },
          "execution_count": 17
        }
      ]
    },
    {
      "cell_type": "markdown",
      "metadata": {
        "id": "ZRlXCdmCrst7"
      },
      "source": [
        "if we look at our data, we do have a purchase address and nested right in the middle is our city name with it's zip so if we want to sum up by city we're going to to have to somehow extract this value and then get rid of the zip "
      ]
    },
    {
      "cell_type": "code",
      "metadata": {
        "id": "U40GCYLwrRaH"
      },
      "source": [
        "# adding city column \n",
        "year['City']= year['Purchase_Address'].apply(lambda x: x.split(',')[1])"
      ],
      "execution_count": null,
      "outputs": []
    },
    {
      "cell_type": "code",
      "metadata": {
        "id": "_SOliuycspU0",
        "outputId": "a0fb6056-490e-48e0-eaac-42ed34030f0d",
        "colab": {
          "base_uri": "https://localhost:8080/",
          "height": 289
        }
      },
      "source": [
        "year.head()"
      ],
      "execution_count": null,
      "outputs": [
        {
          "output_type": "execute_result",
          "data": {
            "text/html": [
              "<div>\n",
              "<style scoped>\n",
              "    .dataframe tbody tr th:only-of-type {\n",
              "        vertical-align: middle;\n",
              "    }\n",
              "\n",
              "    .dataframe tbody tr th {\n",
              "        vertical-align: top;\n",
              "    }\n",
              "\n",
              "    .dataframe thead th {\n",
              "        text-align: right;\n",
              "    }\n",
              "</style>\n",
              "<table border=\"1\" class=\"dataframe\">\n",
              "  <thead>\n",
              "    <tr style=\"text-align: right;\">\n",
              "      <th></th>\n",
              "      <th>Order_ID</th>\n",
              "      <th>Product</th>\n",
              "      <th>Quantity_Ordered</th>\n",
              "      <th>Price_Each</th>\n",
              "      <th>Order_Date</th>\n",
              "      <th>Purchase_Address</th>\n",
              "      <th>Month</th>\n",
              "      <th>Sales</th>\n",
              "      <th>City</th>\n",
              "    </tr>\n",
              "  </thead>\n",
              "  <tbody>\n",
              "    <tr>\n",
              "      <th>0</th>\n",
              "      <td>155009</td>\n",
              "      <td>Element ‑ Visserie Allen 1</td>\n",
              "      <td>1.0</td>\n",
              "      <td>82.95</td>\n",
              "      <td>10/29/19 16:15</td>\n",
              "      <td>107 AVN Medina, CasaBlanca 20000, Morroco</td>\n",
              "      <td>10</td>\n",
              "      <td>82.95</td>\n",
              "      <td>CasaBlanca 20000</td>\n",
              "    </tr>\n",
              "    <tr>\n",
              "      <th>1</th>\n",
              "      <td>155010</td>\n",
              "      <td>Grip</td>\n",
              "      <td>1.0</td>\n",
              "      <td>26.84</td>\n",
              "      <td>10/25/19 18:09</td>\n",
              "      <td>126 AVN Mohammed VI, Rabat 10000, Morroco</td>\n",
              "      <td>10</td>\n",
              "      <td>26.84</td>\n",
              "      <td>Rabat 10000</td>\n",
              "    </tr>\n",
              "    <tr>\n",
              "      <th>2</th>\n",
              "      <td>155011</td>\n",
              "      <td>Element ‑ Visserie Allen 1</td>\n",
              "      <td>1.0</td>\n",
              "      <td>82.95</td>\n",
              "      <td>10/08/19 15:26</td>\n",
              "      <td>65 AVN El Siaghin, Fes 30000, Morroco</td>\n",
              "      <td>10</td>\n",
              "      <td>82.95</td>\n",
              "      <td>Fes 30000</td>\n",
              "    </tr>\n",
              "    <tr>\n",
              "      <th>3</th>\n",
              "      <td>155012</td>\n",
              "      <td>T-Shirt Colorblock vans</td>\n",
              "      <td>1.0</td>\n",
              "      <td>189.99</td>\n",
              "      <td>10/05/19 10:36</td>\n",
              "      <td>183 AVN Ville nouvelle, Essaouira 44000, Morroco</td>\n",
              "      <td>10</td>\n",
              "      <td>189.99</td>\n",
              "      <td>Essaouira 44000</td>\n",
              "    </tr>\n",
              "    <tr>\n",
              "      <th>4</th>\n",
              "      <td>155013</td>\n",
              "      <td>Steackers</td>\n",
              "      <td>1.0</td>\n",
              "      <td>24.99</td>\n",
              "      <td>10/01/19 23:08</td>\n",
              "      <td>87 AVN Essaada, Fes 30000, Morroco</td>\n",
              "      <td>10</td>\n",
              "      <td>24.99</td>\n",
              "      <td>Fes 30000</td>\n",
              "    </tr>\n",
              "  </tbody>\n",
              "</table>\n",
              "</div>"
            ],
            "text/plain": [
              "  Order_ID                     Product  ...   Sales               City\n",
              "0   155009  Element ‑ Visserie Allen 1  ...   82.95   CasaBlanca 20000\n",
              "1   155010                        Grip  ...   26.84        Rabat 10000\n",
              "2   155011  Element ‑ Visserie Allen 1  ...   82.95          Fes 30000\n",
              "3   155012     T-Shirt Colorblock vans  ...  189.99    Essaouira 44000\n",
              "4   155013                   Steackers  ...   24.99          Fes 30000\n",
              "\n",
              "[5 rows x 9 columns]"
            ]
          },
          "metadata": {
            "tags": []
          },
          "execution_count": 28
        }
      ]
    },
    {
      "cell_type": "code",
      "metadata": {
        "id": "z2khcEdRs97K"
      },
      "source": [
        "year['City']= year['City'].apply(lambda x: x.split(' ')[1])"
      ],
      "execution_count": null,
      "outputs": []
    },
    {
      "cell_type": "code",
      "metadata": {
        "id": "iVg86rQ5vGW8",
        "outputId": "0936f8a1-ccd6-4a9e-8f84-0f785e9f7ee9",
        "colab": {
          "base_uri": "https://localhost:8080/",
          "height": 289
        }
      },
      "source": [
        "year.head()"
      ],
      "execution_count": null,
      "outputs": [
        {
          "output_type": "execute_result",
          "data": {
            "text/html": [
              "<div>\n",
              "<style scoped>\n",
              "    .dataframe tbody tr th:only-of-type {\n",
              "        vertical-align: middle;\n",
              "    }\n",
              "\n",
              "    .dataframe tbody tr th {\n",
              "        vertical-align: top;\n",
              "    }\n",
              "\n",
              "    .dataframe thead th {\n",
              "        text-align: right;\n",
              "    }\n",
              "</style>\n",
              "<table border=\"1\" class=\"dataframe\">\n",
              "  <thead>\n",
              "    <tr style=\"text-align: right;\">\n",
              "      <th></th>\n",
              "      <th>Order_ID</th>\n",
              "      <th>Product</th>\n",
              "      <th>Quantity_Ordered</th>\n",
              "      <th>Price_Each</th>\n",
              "      <th>Order_Date</th>\n",
              "      <th>Purchase_Address</th>\n",
              "      <th>Month</th>\n",
              "      <th>Sales</th>\n",
              "      <th>City</th>\n",
              "    </tr>\n",
              "  </thead>\n",
              "  <tbody>\n",
              "    <tr>\n",
              "      <th>0</th>\n",
              "      <td>155009</td>\n",
              "      <td>Element ‑ Visserie Allen 1</td>\n",
              "      <td>1.0</td>\n",
              "      <td>82.95</td>\n",
              "      <td>10/29/19 16:15</td>\n",
              "      <td>107 AVN Medina, CasaBlanca 20000, Morroco</td>\n",
              "      <td>10</td>\n",
              "      <td>82.95</td>\n",
              "      <td>CasaBlanca</td>\n",
              "    </tr>\n",
              "    <tr>\n",
              "      <th>1</th>\n",
              "      <td>155010</td>\n",
              "      <td>Grip</td>\n",
              "      <td>1.0</td>\n",
              "      <td>26.84</td>\n",
              "      <td>10/25/19 18:09</td>\n",
              "      <td>126 AVN Mohammed VI, Rabat 10000, Morroco</td>\n",
              "      <td>10</td>\n",
              "      <td>26.84</td>\n",
              "      <td>Rabat</td>\n",
              "    </tr>\n",
              "    <tr>\n",
              "      <th>2</th>\n",
              "      <td>155011</td>\n",
              "      <td>Element ‑ Visserie Allen 1</td>\n",
              "      <td>1.0</td>\n",
              "      <td>82.95</td>\n",
              "      <td>10/08/19 15:26</td>\n",
              "      <td>65 AVN El Siaghin, Fes 30000, Morroco</td>\n",
              "      <td>10</td>\n",
              "      <td>82.95</td>\n",
              "      <td>Fes</td>\n",
              "    </tr>\n",
              "    <tr>\n",
              "      <th>3</th>\n",
              "      <td>155012</td>\n",
              "      <td>T-Shirt Colorblock vans</td>\n",
              "      <td>1.0</td>\n",
              "      <td>189.99</td>\n",
              "      <td>10/05/19 10:36</td>\n",
              "      <td>183 AVN Ville nouvelle, Essaouira 44000, Morroco</td>\n",
              "      <td>10</td>\n",
              "      <td>189.99</td>\n",
              "      <td>Essaouira</td>\n",
              "    </tr>\n",
              "    <tr>\n",
              "      <th>4</th>\n",
              "      <td>155013</td>\n",
              "      <td>Steackers</td>\n",
              "      <td>1.0</td>\n",
              "      <td>24.99</td>\n",
              "      <td>10/01/19 23:08</td>\n",
              "      <td>87 AVN Essaada, Fes 30000, Morroco</td>\n",
              "      <td>10</td>\n",
              "      <td>24.99</td>\n",
              "      <td>Fes</td>\n",
              "    </tr>\n",
              "  </tbody>\n",
              "</table>\n",
              "</div>"
            ],
            "text/plain": [
              "  Order_ID                     Product  ...   Sales        City\n",
              "0   155009  Element ‑ Visserie Allen 1  ...   82.95  CasaBlanca\n",
              "1   155010                        Grip  ...   26.84       Rabat\n",
              "2   155011  Element ‑ Visserie Allen 1  ...   82.95         Fes\n",
              "3   155012     T-Shirt Colorblock vans  ...  189.99   Essaouira\n",
              "4   155013                   Steackers  ...   24.99         Fes\n",
              "\n",
              "[5 rows x 9 columns]"
            ]
          },
          "metadata": {
            "tags": []
          },
          "execution_count": 30
        }
      ]
    },
    {
      "cell_type": "markdown",
      "metadata": {
        "id": "PdX0csZ1vgRk"
      },
      "source": [
        "To answer the question we group by the city column "
      ]
    },
    {
      "cell_type": "code",
      "metadata": {
        "id": "vMIkwrjauLeY",
        "outputId": "aa888d90-eebb-4e00-e2fd-e59fdeebaa4e",
        "colab": {
          "base_uri": "https://localhost:8080/",
          "height": 390
        }
      },
      "source": [
        "year.groupby('City').sum().sort_values('Sales',ascending = False)"
      ],
      "execution_count": null,
      "outputs": [
        {
          "output_type": "execute_result",
          "data": {
            "text/html": [
              "<div>\n",
              "<style scoped>\n",
              "    .dataframe tbody tr th:only-of-type {\n",
              "        vertical-align: middle;\n",
              "    }\n",
              "\n",
              "    .dataframe tbody tr th {\n",
              "        vertical-align: top;\n",
              "    }\n",
              "\n",
              "    .dataframe thead th {\n",
              "        text-align: right;\n",
              "    }\n",
              "</style>\n",
              "<table border=\"1\" class=\"dataframe\">\n",
              "  <thead>\n",
              "    <tr style=\"text-align: right;\">\n",
              "      <th></th>\n",
              "      <th>Quantity_Ordered</th>\n",
              "      <th>Price_Each</th>\n",
              "      <th>Month</th>\n",
              "      <th>Sales</th>\n",
              "    </tr>\n",
              "    <tr>\n",
              "      <th>City</th>\n",
              "      <th></th>\n",
              "      <th></th>\n",
              "      <th></th>\n",
              "      <th></th>\n",
              "    </tr>\n",
              "  </thead>\n",
              "  <tbody>\n",
              "    <tr>\n",
              "      <th>Essaouira</th>\n",
              "      <td>4147.0</td>\n",
              "      <td>1620920.51</td>\n",
              "      <td>28894</td>\n",
              "      <td>1623821.59</td>\n",
              "    </tr>\n",
              "    <tr>\n",
              "      <th>Salé</th>\n",
              "      <td>2753.0</td>\n",
              "      <td>1071988.98</td>\n",
              "      <td>19261</td>\n",
              "      <td>1073037.90</td>\n",
              "    </tr>\n",
              "    <tr>\n",
              "      <th>CasaBlanca</th>\n",
              "      <td>2782.0</td>\n",
              "      <td>1022869.98</td>\n",
              "      <td>19496</td>\n",
              "      <td>1024926.47</td>\n",
              "    </tr>\n",
              "    <tr>\n",
              "      <th>Rabat</th>\n",
              "      <td>2279.0</td>\n",
              "      <td>881544.58</td>\n",
              "      <td>15854</td>\n",
              "      <td>883455.44</td>\n",
              "    </tr>\n",
              "    <tr>\n",
              "      <th>Fes</th>\n",
              "      <td>1803.0</td>\n",
              "      <td>682686.97</td>\n",
              "      <td>12650</td>\n",
              "      <td>683970.44</td>\n",
              "    </tr>\n",
              "    <tr>\n",
              "      <th>Oujda</th>\n",
              "      <td>1321.0</td>\n",
              "      <td>542116.74</td>\n",
              "      <td>9038</td>\n",
              "      <td>542869.77</td>\n",
              "    </tr>\n",
              "    <tr>\n",
              "      <th>Marrakech</th>\n",
              "      <td>1339.0</td>\n",
              "      <td>518553.09</td>\n",
              "      <td>9512</td>\n",
              "      <td>520334.76</td>\n",
              "    </tr>\n",
              "    <tr>\n",
              "      <th>Tanger</th>\n",
              "      <td>1317.0</td>\n",
              "      <td>495259.62</td>\n",
              "      <td>9216</td>\n",
              "      <td>495795.65</td>\n",
              "    </tr>\n",
              "    <tr>\n",
              "      <th>Tetouan</th>\n",
              "      <td>972.0</td>\n",
              "      <td>371271.30</td>\n",
              "      <td>6896</td>\n",
              "      <td>372787.85</td>\n",
              "    </tr>\n",
              "    <tr>\n",
              "      <th>ElJadida</th>\n",
              "      <td>215.0</td>\n",
              "      <td>83215.75</td>\n",
              "      <td>1558</td>\n",
              "      <td>83292.57</td>\n",
              "    </tr>\n",
              "  </tbody>\n",
              "</table>\n",
              "</div>"
            ],
            "text/plain": [
              "            Quantity_Ordered  Price_Each  Month       Sales\n",
              "City                                                       \n",
              "Essaouira             4147.0  1620920.51  28894  1623821.59\n",
              "Salé                  2753.0  1071988.98  19261  1073037.90\n",
              "CasaBlanca            2782.0  1022869.98  19496  1024926.47\n",
              "Rabat                 2279.0   881544.58  15854   883455.44\n",
              "Fes                   1803.0   682686.97  12650   683970.44\n",
              "Oujda                 1321.0   542116.74   9038   542869.77\n",
              "Marrakech             1339.0   518553.09   9512   520334.76\n",
              "Tanger                1317.0   495259.62   9216   495795.65\n",
              "Tetouan                972.0   371271.30   6896   372787.85\n",
              "ElJadida               215.0    83215.75   1558    83292.57"
            ]
          },
          "metadata": {
            "tags": []
          },
          "execution_count": 31
        }
      ]
    },
    {
      "cell_type": "markdown",
      "metadata": {
        "id": "9xMNe4yDv2Vz"
      },
      "source": [
        "Essaouira apperas to be the best with over 162million DHS. Let's plot the results "
      ]
    },
    {
      "cell_type": "code",
      "metadata": {
        "id": "FeWBBZbevnbT",
        "outputId": "9b1afb55-eb22-4001-f7e1-d62eabb7e6ee",
        "colab": {
          "base_uri": "https://localhost:8080/",
          "height": 585
        }
      },
      "source": [
        "results = year.groupby(['City']).sum()\n",
        "plt.figure(figsize=(16,8))\n",
        "plt.bar(results.index, results['Sales'] , color='C6')\n",
        "plt.xticks(results.index, rotation='vertical', size=12)\n",
        "plt.xlabel('cities')\n",
        "plt.ylabel('sales in USD')"
      ],
      "execution_count": null,
      "outputs": [
        {
          "output_type": "execute_result",
          "data": {
            "text/plain": [
              "Text(0, 0.5, 'sales in USD')"
            ]
          },
          "metadata": {
            "tags": []
          },
          "execution_count": 32
        },
        {
          "output_type": "display_data",
          "data": {
            "image/png": "[encoded data removed]",
            "text/plain": [
              "<Figure size 1152x576 with 1 Axes>"
            ]
          },
          "metadata": {
            "tags": [],
            "needs_background": "light"
          }
        }
      ]
    },
    {
      "cell_type": "markdown",
      "metadata": {
        "id": "0ylZ1StSwPAa"
      },
      "source": [
        "it was expected that the essaouira got the highest number of sales because they have the biggest skateboarding park near to the beach and all extreme sports are popular there "
      ]
    },
    {
      "cell_type": "markdown",
      "metadata": {
        "id": "Ps7iID8zwwyr"
      },
      "source": [
        "#Question 3 : What time should we display advertisements to maximize the likelihood of purchases?"
      ]
    },
    {
      "cell_type": "markdown",
      "metadata": {
        "id": "9q-4nWL2xJh6"
      },
      "source": [
        "if we remember what our data looks like"
      ]
    },
    {
      "cell_type": "code",
      "metadata": {
        "id": "iixovaPTxI72",
        "outputId": "cff78bd1-7873-4fc0-ce81-b8175d996a9a",
        "colab": {
          "base_uri": "https://localhost:8080/",
          "height": 289
        }
      },
      "source": [
        "year.head()"
      ],
      "execution_count": null,
      "outputs": [
        {
          "output_type": "execute_result",
          "data": {
            "text/html": [
              "<div>\n",
              "<style scoped>\n",
              "    .dataframe tbody tr th:only-of-type {\n",
              "        vertical-align: middle;\n",
              "    }\n",
              "\n",
              "    .dataframe tbody tr th {\n",
              "        vertical-align: top;\n",
              "    }\n",
              "\n",
              "    .dataframe thead th {\n",
              "        text-align: right;\n",
              "    }\n",
              "</style>\n",
              "<table border=\"1\" class=\"dataframe\">\n",
              "  <thead>\n",
              "    <tr style=\"text-align: right;\">\n",
              "      <th></th>\n",
              "      <th>Order_ID</th>\n",
              "      <th>Product</th>\n",
              "      <th>Quantity_Ordered</th>\n",
              "      <th>Price_Each</th>\n",
              "      <th>Order_Date</th>\n",
              "      <th>Purchase_Address</th>\n",
              "      <th>Month</th>\n",
              "      <th>Sales</th>\n",
              "      <th>City</th>\n",
              "    </tr>\n",
              "  </thead>\n",
              "  <tbody>\n",
              "    <tr>\n",
              "      <th>0</th>\n",
              "      <td>155009</td>\n",
              "      <td>Element ‑ Visserie Allen 1</td>\n",
              "      <td>1.0</td>\n",
              "      <td>82.95</td>\n",
              "      <td>10/29/19 16:15</td>\n",
              "      <td>107 AVN Medina, CasaBlanca 20000, Morroco</td>\n",
              "      <td>10</td>\n",
              "      <td>82.95</td>\n",
              "      <td>CasaBlanca</td>\n",
              "    </tr>\n",
              "    <tr>\n",
              "      <th>1</th>\n",
              "      <td>155010</td>\n",
              "      <td>Grip</td>\n",
              "      <td>1.0</td>\n",
              "      <td>26.84</td>\n",
              "      <td>10/25/19 18:09</td>\n",
              "      <td>126 AVN Mohammed VI, Rabat 10000, Morroco</td>\n",
              "      <td>10</td>\n",
              "      <td>26.84</td>\n",
              "      <td>Rabat</td>\n",
              "    </tr>\n",
              "    <tr>\n",
              "      <th>2</th>\n",
              "      <td>155011</td>\n",
              "      <td>Element ‑ Visserie Allen 1</td>\n",
              "      <td>1.0</td>\n",
              "      <td>82.95</td>\n",
              "      <td>10/08/19 15:26</td>\n",
              "      <td>65 AVN El Siaghin, Fes 30000, Morroco</td>\n",
              "      <td>10</td>\n",
              "      <td>82.95</td>\n",
              "      <td>Fes</td>\n",
              "    </tr>\n",
              "    <tr>\n",
              "      <th>3</th>\n",
              "      <td>155012</td>\n",
              "      <td>T-Shirt Colorblock vans</td>\n",
              "      <td>1.0</td>\n",
              "      <td>189.99</td>\n",
              "      <td>10/05/19 10:36</td>\n",
              "      <td>183 AVN Ville nouvelle, Essaouira 44000, Morroco</td>\n",
              "      <td>10</td>\n",
              "      <td>189.99</td>\n",
              "      <td>Essaouira</td>\n",
              "    </tr>\n",
              "    <tr>\n",
              "      <th>4</th>\n",
              "      <td>155013</td>\n",
              "      <td>Steackers</td>\n",
              "      <td>1.0</td>\n",
              "      <td>24.99</td>\n",
              "      <td>10/01/19 23:08</td>\n",
              "      <td>87 AVN Essaada, Fes 30000, Morroco</td>\n",
              "      <td>10</td>\n",
              "      <td>24.99</td>\n",
              "      <td>Fes</td>\n",
              "    </tr>\n",
              "  </tbody>\n",
              "</table>\n",
              "</div>"
            ],
            "text/plain": [
              "  Order_ID                     Product  ...   Sales        City\n",
              "0   155009  Element ‑ Visserie Allen 1  ...   82.95  CasaBlanca\n",
              "1   155010                        Grip  ...   26.84       Rabat\n",
              "2   155011  Element ‑ Visserie Allen 1  ...   82.95         Fes\n",
              "3   155012     T-Shirt Colorblock vans  ...  189.99   Essaouira\n",
              "4   155013                   Steackers  ...   24.99         Fes\n",
              "\n",
              "[5 rows x 9 columns]"
            ]
          },
          "metadata": {
            "tags": []
          },
          "execution_count": 33
        }
      ]
    },
    {
      "cell_type": "markdown",
      "metadata": {
        "id": "Wz7_FK-AxVSl"
      },
      "source": [
        "to answer this question what we're going to really need to look at is the order date. We basically have to figure out a way that we kind of aggregate all of the order dates into their distribution over over a 24-hour period.    "
      ]
    },
    {
      "cell_type": "code",
      "metadata": {
        "id": "nUlysqoCwJiz"
      },
      "source": [
        "year['Order_Date']= pd.to_datetime(year['Order_Date']) "
      ],
      "execution_count": null,
      "outputs": []
    },
    {
      "cell_type": "code",
      "metadata": {
        "id": "dwVcL3smyiE6"
      },
      "source": [
        "# importing the datetime library \n",
        "import datetime as dt\n",
        "# adding hour column \n",
        "year['Hour'] = year['Order_Date'].dt.hour"
      ],
      "execution_count": null,
      "outputs": []
    },
    {
      "cell_type": "code",
      "metadata": {
        "id": "z8OI81RSyJy3",
        "outputId": "80ab72d5-1d9e-4c22-c156-42823688d380",
        "colab": {
          "base_uri": "https://localhost:8080/",
          "height": 514
        }
      },
      "source": [
        "hours = [hour for hour, df in year.groupby(['Hour'])]\n",
        "plt.figure(figsize=(14,8))\n",
        "plt.plot(hours, year.groupby(['Hour'])['Sales'].count())\n",
        "plt.xticks(hours)\n",
        "plt.grid()\n",
        "plt.xlabel('hours')\n",
        "plt.ylabel('number of sales')"
      ],
      "execution_count": null,
      "outputs": [
        {
          "output_type": "execute_result",
          "data": {
            "text/plain": [
              "Text(0, 0.5, 'number of sales')"
            ]
          },
          "metadata": {
            "tags": []
          },
          "execution_count": 37
        },
        {
          "output_type": "display_data",
          "data": {
            "image/png": "[encoded data removed]",
            "text/plain": [
              "<Figure size 1008x576 with 1 Axes>"
            ]
          },
          "metadata": {
            "tags": [],
            "needs_background": "light"
          }
        }
      ]
    },
    {
      "cell_type": "markdown",
      "metadata": {
        "id": "02tLYdNOzMt8"
      },
      "source": [
        "we have peaks at around 11 and another one at around 19 or 20. That's kind of makes. Like early in the day you're doing your chores or like 19 maybe it's after work type of deal. If we have to answer the question, maybe right before 11 is a good time to put an ad or 12. Also 18 and 17 would be a good time to display ads because those were the peaks  of when all the orders in our dataset happened "
      ]
    },
    {
      "cell_type": "markdown",
      "metadata": {
        "id": "VVLgfC3E0oBQ"
      },
      "source": [
        "# Question 4 : What products are most often sold together?"
      ]
    },
    {
      "cell_type": "markdown",
      "metadata": {
        "id": "jC_qXmwu0vyh"
      },
      "source": [
        "to introduce the problem, the first thing to note is hw do we know if a product is sold together with another product. Let's have a look at our data another time "
      ]
    },
    {
      "cell_type": "code",
      "metadata": {
        "id": "qjo9Cnfiyyzd",
        "outputId": "42076c52-6da3-4e41-cf5e-6c7d1ae72bc5",
        "colab": {
          "base_uri": "https://localhost:8080/",
          "height": 769
        }
      },
      "source": [
        "year.head(15)"
      ],
      "execution_count": null,
      "outputs": [
        {
          "output_type": "execute_result",
          "data": {
            "text/html": [
              "<div>\n",
              "<style scoped>\n",
              "    .dataframe tbody tr th:only-of-type {\n",
              "        vertical-align: middle;\n",
              "    }\n",
              "\n",
              "    .dataframe tbody tr th {\n",
              "        vertical-align: top;\n",
              "    }\n",
              "\n",
              "    .dataframe thead th {\n",
              "        text-align: right;\n",
              "    }\n",
              "</style>\n",
              "<table border=\"1\" class=\"dataframe\">\n",
              "  <thead>\n",
              "    <tr style=\"text-align: right;\">\n",
              "      <th></th>\n",
              "      <th>Order_ID</th>\n",
              "      <th>Product</th>\n",
              "      <th>Quantity_Ordered</th>\n",
              "      <th>Price_Each</th>\n",
              "      <th>Order_Date</th>\n",
              "      <th>Purchase_Address</th>\n",
              "      <th>Month</th>\n",
              "      <th>Sales</th>\n",
              "      <th>City</th>\n",
              "      <th>Hour</th>\n",
              "    </tr>\n",
              "  </thead>\n",
              "  <tbody>\n",
              "    <tr>\n",
              "      <th>0</th>\n",
              "      <td>155009</td>\n",
              "      <td>Element ‑ Visserie Allen 1</td>\n",
              "      <td>1.0</td>\n",
              "      <td>82.95</td>\n",
              "      <td>2019-10-29 16:15:00</td>\n",
              "      <td>107 AVN Medina, CasaBlanca 20000, Morroco</td>\n",
              "      <td>10</td>\n",
              "      <td>82.95</td>\n",
              "      <td>CasaBlanca</td>\n",
              "      <td>16</td>\n",
              "    </tr>\n",
              "    <tr>\n",
              "      <th>1</th>\n",
              "      <td>155010</td>\n",
              "      <td>Grip</td>\n",
              "      <td>1.0</td>\n",
              "      <td>26.84</td>\n",
              "      <td>2019-10-25 18:09:00</td>\n",
              "      <td>126 AVN Mohammed VI, Rabat 10000, Morroco</td>\n",
              "      <td>10</td>\n",
              "      <td>26.84</td>\n",
              "      <td>Rabat</td>\n",
              "      <td>18</td>\n",
              "    </tr>\n",
              "    <tr>\n",
              "      <th>2</th>\n",
              "      <td>155011</td>\n",
              "      <td>Element ‑ Visserie Allen 1</td>\n",
              "      <td>1.0</td>\n",
              "      <td>82.95</td>\n",
              "      <td>2019-10-08 15:26:00</td>\n",
              "      <td>65 AVN El Siaghin, Fes 30000, Morroco</td>\n",
              "      <td>10</td>\n",
              "      <td>82.95</td>\n",
              "      <td>Fes</td>\n",
              "      <td>15</td>\n",
              "    </tr>\n",
              "    <tr>\n",
              "      <th>3</th>\n",
              "      <td>155012</td>\n",
              "      <td>T-Shirt Colorblock vans</td>\n",
              "      <td>1.0</td>\n",
              "      <td>189.99</td>\n",
              "      <td>2019-10-05 10:36:00</td>\n",
              "      <td>183 AVN Ville nouvelle, Essaouira 44000, Morroco</td>\n",
              "      <td>10</td>\n",
              "      <td>189.99</td>\n",
              "      <td>Essaouira</td>\n",
              "      <td>10</td>\n",
              "    </tr>\n",
              "    <tr>\n",
              "      <th>4</th>\n",
              "      <td>155013</td>\n",
              "      <td>Steackers</td>\n",
              "      <td>1.0</td>\n",
              "      <td>24.99</td>\n",
              "      <td>2019-10-01 23:08:00</td>\n",
              "      <td>87 AVN Essaada, Fes 30000, Morroco</td>\n",
              "      <td>10</td>\n",
              "      <td>24.99</td>\n",
              "      <td>Fes</td>\n",
              "      <td>23</td>\n",
              "    </tr>\n",
              "    <tr>\n",
              "      <th>5</th>\n",
              "      <td>155014</td>\n",
              "      <td>All In One Skate</td>\n",
              "      <td>1.0</td>\n",
              "      <td>88.95</td>\n",
              "      <td>2019-10-10 15:12:00</td>\n",
              "      <td>126 AVN Mohammed VI, Rabat 10000, Morroco</td>\n",
              "      <td>10</td>\n",
              "      <td>88.95</td>\n",
              "      <td>Rabat</td>\n",
              "      <td>15</td>\n",
              "    </tr>\n",
              "    <tr>\n",
              "      <th>6</th>\n",
              "      <td>155015</td>\n",
              "      <td>Nike Nyjah 2</td>\n",
              "      <td>1.0</td>\n",
              "      <td>758.99</td>\n",
              "      <td>2019-10-12 09:26:00</td>\n",
              "      <td>34 AVN Hassan II, Marrakech 40000, Morroco</td>\n",
              "      <td>10</td>\n",
              "      <td>758.99</td>\n",
              "      <td>Marrakech</td>\n",
              "      <td>9</td>\n",
              "    </tr>\n",
              "    <tr>\n",
              "      <th>7</th>\n",
              "      <td>155016</td>\n",
              "      <td>Element ‑ Visserie Allen 1</td>\n",
              "      <td>1.0</td>\n",
              "      <td>82.95</td>\n",
              "      <td>2019-10-03 00:53:00</td>\n",
              "      <td>12 AVN Ville nouvelle, Essaouira 44000, Morroco</td>\n",
              "      <td>10</td>\n",
              "      <td>82.95</td>\n",
              "      <td>Essaouira</td>\n",
              "      <td>0</td>\n",
              "    </tr>\n",
              "    <tr>\n",
              "      <th>8</th>\n",
              "      <td>155017</td>\n",
              "      <td>Steackers</td>\n",
              "      <td>1.0</td>\n",
              "      <td>24.99</td>\n",
              "      <td>2019-10-09 13:41:00</td>\n",
              "      <td>146 AVN Ville nouvelle, Fes 30000, Morroco</td>\n",
              "      <td>10</td>\n",
              "      <td>24.99</td>\n",
              "      <td>Fes</td>\n",
              "      <td>13</td>\n",
              "    </tr>\n",
              "    <tr>\n",
              "      <th>9</th>\n",
              "      <td>155018</td>\n",
              "      <td>Element Complete Board</td>\n",
              "      <td>1.0</td>\n",
              "      <td>1200.00</td>\n",
              "      <td>2019-10-31 15:46:00</td>\n",
              "      <td>55 AVN Essaada, Rabat 10000, Morroco</td>\n",
              "      <td>10</td>\n",
              "      <td>1200.00</td>\n",
              "      <td>Rabat</td>\n",
              "      <td>15</td>\n",
              "    </tr>\n",
              "    <tr>\n",
              "      <th>10</th>\n",
              "      <td>155018</td>\n",
              "      <td>Element ‑ Visserie Allen 1</td>\n",
              "      <td>1.0</td>\n",
              "      <td>82.95</td>\n",
              "      <td>2019-10-31 15:46:00</td>\n",
              "      <td>55 AVN Essaada, Rabat 10000, Morroco</td>\n",
              "      <td>10</td>\n",
              "      <td>82.95</td>\n",
              "      <td>Rabat</td>\n",
              "      <td>15</td>\n",
              "    </tr>\n",
              "    <tr>\n",
              "      <th>11</th>\n",
              "      <td>155019</td>\n",
              "      <td>Steackers</td>\n",
              "      <td>1.0</td>\n",
              "      <td>24.99</td>\n",
              "      <td>2019-10-27 16:53:00</td>\n",
              "      <td>101 AVN Hassan II, Rabat 10000, Morroco</td>\n",
              "      <td>10</td>\n",
              "      <td>24.99</td>\n",
              "      <td>Rabat</td>\n",
              "      <td>16</td>\n",
              "    </tr>\n",
              "    <tr>\n",
              "      <th>12</th>\n",
              "      <td>155020</td>\n",
              "      <td>Steackers</td>\n",
              "      <td>1.0</td>\n",
              "      <td>24.99</td>\n",
              "      <td>2019-10-02 17:33:00</td>\n",
              "      <td>172 AVN Hassan II, CasaBlanca 20000, Morroco</td>\n",
              "      <td>10</td>\n",
              "      <td>24.99</td>\n",
              "      <td>CasaBlanca</td>\n",
              "      <td>17</td>\n",
              "    </tr>\n",
              "    <tr>\n",
              "      <th>13</th>\n",
              "      <td>155021</td>\n",
              "      <td>Nike Jacob Janowski</td>\n",
              "      <td>1.0</td>\n",
              "      <td>778.99</td>\n",
              "      <td>2019-10-09 09:49:00</td>\n",
              "      <td>184 AVN Ennasr, Oujda 60000, Morroco</td>\n",
              "      <td>10</td>\n",
              "      <td>778.99</td>\n",
              "      <td>Oujda</td>\n",
              "      <td>9</td>\n",
              "    </tr>\n",
              "    <tr>\n",
              "      <th>14</th>\n",
              "      <td>155021</td>\n",
              "      <td>Steackers</td>\n",
              "      <td>1.0</td>\n",
              "      <td>24.99</td>\n",
              "      <td>2019-10-09 09:49:00</td>\n",
              "      <td>184 AVN Ennasr, Oujda 60000, Morroco</td>\n",
              "      <td>10</td>\n",
              "      <td>24.99</td>\n",
              "      <td>Oujda</td>\n",
              "      <td>9</td>\n",
              "    </tr>\n",
              "  </tbody>\n",
              "</table>\n",
              "</div>"
            ],
            "text/plain": [
              "   Order_ID                     Product  ...        City  Hour\n",
              "0    155009  Element ‑ Visserie Allen 1  ...  CasaBlanca    16\n",
              "1    155010                        Grip  ...       Rabat    18\n",
              "2    155011  Element ‑ Visserie Allen 1  ...         Fes    15\n",
              "3    155012     T-Shirt Colorblock vans  ...   Essaouira    10\n",
              "4    155013                   Steackers  ...         Fes    23\n",
              "5    155014            All In One Skate  ...       Rabat    15\n",
              "6    155015                Nike Nyjah 2  ...   Marrakech     9\n",
              "7    155016  Element ‑ Visserie Allen 1  ...   Essaouira     0\n",
              "8    155017                   Steackers  ...         Fes    13\n",
              "9    155018      Element Complete Board  ...       Rabat    15\n",
              "10   155018  Element ‑ Visserie Allen 1  ...       Rabat    15\n",
              "11   155019                   Steackers  ...       Rabat    16\n",
              "12   155020                   Steackers  ...  CasaBlanca    17\n",
              "13   155021         Nike Jacob Janowski  ...       Oujda     9\n",
              "14   155021                   Steackers  ...       Oujda     9\n",
              "\n",
              "[15 rows x 10 columns]"
            ]
          },
          "metadata": {
            "tags": []
          },
          "execution_count": 42
        }
      ]
    },
    {
      "cell_type": "markdown",
      "metadata": {
        "id": "VmPa5E-z3jR2"
      },
      "source": [
        "if we look at thi sorder_id values, if they have the same order_id that means that Element Complete Board and Element ‑ Visserie Allen 1 were ordered together they also are delivered to the same address at the same time. So basically we're trying to figure out counting all of the duplicate order ids which products were sold together the most    "
      ]
    },
    {
      "cell_type": "markdown",
      "metadata": {
        "id": "A5WrWTH44dyh"
      },
      "source": [
        "here is a look at the different products"
      ]
    },
    {
      "cell_type": "code",
      "metadata": {
        "id": "fIi7LEo53Pat",
        "outputId": "ff94a96e-ebf2-4eb6-d7f8-e246b723bbeb",
        "colab": {
          "base_uri": "https://localhost:8080/"
        }
      },
      "source": [
        "year['Product'].unique()"
      ],
      "execution_count": null,
      "outputs": [
        {
          "output_type": "execute_result",
          "data": {
            "text/plain": [
              "array(['Element ‑ Visserie Allen 1', 'Grip', 'T-Shirt Colorblock vans',\n",
              "       'Steackers', 'All In One Skate', 'Nike Nyjah 2',\n",
              "       'Element Complete Board', 'Nike Jacob Janowski', 'Flat Bar',\n",
              "       '55mm Sparx 99a Ricta Wheels', 'Supreme Cap',\n",
              "       'Flip Complete Board', 'Trasher hoodie',\n",
              "       'Black Standard Bullet Trucks',\n",
              "       'Mercer Flora Untamed 35\" Longboard',\n",
              "       'Polished Silver Standard Bullet Trucks',\n",
              "       'Element by Nigel Cabourn Alder 4 Jacket', 'Oliveira Tin Toy Deck',\n",
              "       'Santa Cruz Classic Dot 41\" Drop Through Longboard'], dtype=object)"
            ]
          },
          "metadata": {
            "tags": []
          },
          "execution_count": 43
        }
      ]
    },
    {
      "cell_type": "code",
      "metadata": {
        "id": "8bsu1rR14iMV"
      },
      "source": [
        "# creating a new df that contains duplicates only \n",
        "year_duplicates= year[year['Order_ID'].duplicated(keep=False)]"
      ],
      "execution_count": null,
      "outputs": []
    },
    {
      "cell_type": "code",
      "metadata": {
        "id": "PJZAflV34neH",
        "outputId": "bf0199e9-bcd3-4f14-d7cf-665ebb4442ea",
        "colab": {
          "base_uri": "https://localhost:8080/",
          "height": 289
        }
      },
      "source": [
        "year_duplicates.head()"
      ],
      "execution_count": null,
      "outputs": [
        {
          "output_type": "execute_result",
          "data": {
            "text/html": [
              "<div>\n",
              "<style scoped>\n",
              "    .dataframe tbody tr th:only-of-type {\n",
              "        vertical-align: middle;\n",
              "    }\n",
              "\n",
              "    .dataframe tbody tr th {\n",
              "        vertical-align: top;\n",
              "    }\n",
              "\n",
              "    .dataframe thead th {\n",
              "        text-align: right;\n",
              "    }\n",
              "</style>\n",
              "<table border=\"1\" class=\"dataframe\">\n",
              "  <thead>\n",
              "    <tr style=\"text-align: right;\">\n",
              "      <th></th>\n",
              "      <th>Order_ID</th>\n",
              "      <th>Product</th>\n",
              "      <th>Quantity_Ordered</th>\n",
              "      <th>Price_Each</th>\n",
              "      <th>Order_Date</th>\n",
              "      <th>Purchase_Address</th>\n",
              "      <th>Month</th>\n",
              "      <th>Sales</th>\n",
              "      <th>City</th>\n",
              "      <th>Hour</th>\n",
              "    </tr>\n",
              "  </thead>\n",
              "  <tbody>\n",
              "    <tr>\n",
              "      <th>9</th>\n",
              "      <td>155018</td>\n",
              "      <td>Element Complete Board</td>\n",
              "      <td>1.0</td>\n",
              "      <td>1200.00</td>\n",
              "      <td>2019-10-31 15:46:00</td>\n",
              "      <td>55 AVN Essaada, Rabat 10000, Morroco</td>\n",
              "      <td>10</td>\n",
              "      <td>1200.00</td>\n",
              "      <td>Rabat</td>\n",
              "      <td>15</td>\n",
              "    </tr>\n",
              "    <tr>\n",
              "      <th>10</th>\n",
              "      <td>155018</td>\n",
              "      <td>Element ‑ Visserie Allen 1</td>\n",
              "      <td>1.0</td>\n",
              "      <td>82.95</td>\n",
              "      <td>2019-10-31 15:46:00</td>\n",
              "      <td>55 AVN Essaada, Rabat 10000, Morroco</td>\n",
              "      <td>10</td>\n",
              "      <td>82.95</td>\n",
              "      <td>Rabat</td>\n",
              "      <td>15</td>\n",
              "    </tr>\n",
              "    <tr>\n",
              "      <th>13</th>\n",
              "      <td>155021</td>\n",
              "      <td>Nike Jacob Janowski</td>\n",
              "      <td>1.0</td>\n",
              "      <td>778.99</td>\n",
              "      <td>2019-10-09 09:49:00</td>\n",
              "      <td>184 AVN Ennasr, Oujda 60000, Morroco</td>\n",
              "      <td>10</td>\n",
              "      <td>778.99</td>\n",
              "      <td>Oujda</td>\n",
              "      <td>9</td>\n",
              "    </tr>\n",
              "    <tr>\n",
              "      <th>14</th>\n",
              "      <td>155021</td>\n",
              "      <td>Steackers</td>\n",
              "      <td>1.0</td>\n",
              "      <td>24.99</td>\n",
              "      <td>2019-10-09 09:49:00</td>\n",
              "      <td>184 AVN Ennasr, Oujda 60000, Morroco</td>\n",
              "      <td>10</td>\n",
              "      <td>24.99</td>\n",
              "      <td>Oujda</td>\n",
              "      <td>9</td>\n",
              "    </tr>\n",
              "    <tr>\n",
              "      <th>20</th>\n",
              "      <td>155027</td>\n",
              "      <td>T-Shirt Colorblock vans</td>\n",
              "      <td>1.0</td>\n",
              "      <td>189.99</td>\n",
              "      <td>2019-10-25 01:50:00</td>\n",
              "      <td>84 AVN Elfarah, Rabat 10000, Morroco</td>\n",
              "      <td>10</td>\n",
              "      <td>189.99</td>\n",
              "      <td>Rabat</td>\n",
              "      <td>1</td>\n",
              "    </tr>\n",
              "  </tbody>\n",
              "</table>\n",
              "</div>"
            ],
            "text/plain": [
              "   Order_ID                     Product  Quantity_Ordered  ...    Sales   City Hour\n",
              "9    155018      Element Complete Board               1.0  ...  1200.00  Rabat   15\n",
              "10   155018  Element ‑ Visserie Allen 1               1.0  ...    82.95  Rabat   15\n",
              "13   155021         Nike Jacob Janowski               1.0  ...   778.99  Oujda    9\n",
              "14   155021                   Steackers               1.0  ...    24.99  Oujda    9\n",
              "20   155027     T-Shirt Colorblock vans               1.0  ...   189.99  Rabat    1\n",
              "\n",
              "[5 rows x 10 columns]"
            ]
          },
          "metadata": {
            "tags": []
          },
          "execution_count": 46
        }
      ]
    },
    {
      "cell_type": "markdown",
      "metadata": {
        "id": "ywXDzwz-5Ni5"
      },
      "source": [
        "we use transform() method to join values from two rows into a single one  "
      ]
    },
    {
      "cell_type": "code",
      "metadata": {
        "id": "GRRt5w8e4yd8",
        "outputId": "f0a137e1-6188-45a9-9473-2c409ef40e7c",
        "colab": {
          "base_uri": "https://localhost:8080/"
        }
      },
      "source": [
        "year_duplicates['Grouped'] = year_duplicates.groupby('Order_ID')['Product'].transform(lambda x : ','.join(x))"
      ],
      "execution_count": null,
      "outputs": [
        {
          "output_type": "stream",
          "text": [
            "/usr/local/lib/python3.6/dist-packages/ipykernel_launcher.py:1: SettingWithCopyWarning: \n",
            "A value is trying to be set on a copy of a slice from a DataFrame.\n",
            "Try using .loc[row_indexer,col_indexer] = value instead\n",
            "\n",
            "See the caveats in the documentation: https://pandas.pydata.org/pandas-docs/stable/user_guide/indexing.html#returning-a-view-versus-a-copy\n",
            "  \"\"\"Entry point for launching an IPython kernel.\n"
          ],
          "name": "stderr"
        }
      ]
    },
    {
      "cell_type": "code",
      "metadata": {
        "id": "t2tEWhV35ftQ",
        "outputId": "1bce78ed-1e39-4d8f-b12a-9b4d6bfcf2d9",
        "colab": {
          "base_uri": "https://localhost:8080/",
          "height": 323
        }
      },
      "source": [
        "year_duplicates.head()"
      ],
      "execution_count": null,
      "outputs": [
        {
          "output_type": "execute_result",
          "data": {
            "text/html": [
              "<div>\n",
              "<style scoped>\n",
              "    .dataframe tbody tr th:only-of-type {\n",
              "        vertical-align: middle;\n",
              "    }\n",
              "\n",
              "    .dataframe tbody tr th {\n",
              "        vertical-align: top;\n",
              "    }\n",
              "\n",
              "    .dataframe thead th {\n",
              "        text-align: right;\n",
              "    }\n",
              "</style>\n",
              "<table border=\"1\" class=\"dataframe\">\n",
              "  <thead>\n",
              "    <tr style=\"text-align: right;\">\n",
              "      <th></th>\n",
              "      <th>Order_ID</th>\n",
              "      <th>Product</th>\n",
              "      <th>Quantity_Ordered</th>\n",
              "      <th>Price_Each</th>\n",
              "      <th>Order_Date</th>\n",
              "      <th>Purchase_Address</th>\n",
              "      <th>Month</th>\n",
              "      <th>Sales</th>\n",
              "      <th>City</th>\n",
              "      <th>Hour</th>\n",
              "      <th>Grouped</th>\n",
              "    </tr>\n",
              "  </thead>\n",
              "  <tbody>\n",
              "    <tr>\n",
              "      <th>9</th>\n",
              "      <td>155018</td>\n",
              "      <td>Element Complete Board</td>\n",
              "      <td>1.0</td>\n",
              "      <td>1200.00</td>\n",
              "      <td>2019-10-31 15:46:00</td>\n",
              "      <td>55 AVN Essaada, Rabat 10000, Morroco</td>\n",
              "      <td>10</td>\n",
              "      <td>1200.00</td>\n",
              "      <td>Rabat</td>\n",
              "      <td>15</td>\n",
              "      <td>Element Complete Board,Element ‑ Visserie Allen 1</td>\n",
              "    </tr>\n",
              "    <tr>\n",
              "      <th>10</th>\n",
              "      <td>155018</td>\n",
              "      <td>Element ‑ Visserie Allen 1</td>\n",
              "      <td>1.0</td>\n",
              "      <td>82.95</td>\n",
              "      <td>2019-10-31 15:46:00</td>\n",
              "      <td>55 AVN Essaada, Rabat 10000, Morroco</td>\n",
              "      <td>10</td>\n",
              "      <td>82.95</td>\n",
              "      <td>Rabat</td>\n",
              "      <td>15</td>\n",
              "      <td>Element Complete Board,Element ‑ Visserie Allen 1</td>\n",
              "    </tr>\n",
              "    <tr>\n",
              "      <th>13</th>\n",
              "      <td>155021</td>\n",
              "      <td>Nike Jacob Janowski</td>\n",
              "      <td>1.0</td>\n",
              "      <td>778.99</td>\n",
              "      <td>2019-10-09 09:49:00</td>\n",
              "      <td>184 AVN Ennasr, Oujda 60000, Morroco</td>\n",
              "      <td>10</td>\n",
              "      <td>778.99</td>\n",
              "      <td>Oujda</td>\n",
              "      <td>9</td>\n",
              "      <td>Nike Jacob Janowski,Steackers</td>\n",
              "    </tr>\n",
              "    <tr>\n",
              "      <th>14</th>\n",
              "      <td>155021</td>\n",
              "      <td>Steackers</td>\n",
              "      <td>1.0</td>\n",
              "      <td>24.99</td>\n",
              "      <td>2019-10-09 09:49:00</td>\n",
              "      <td>184 AVN Ennasr, Oujda 60000, Morroco</td>\n",
              "      <td>10</td>\n",
              "      <td>24.99</td>\n",
              "      <td>Oujda</td>\n",
              "      <td>9</td>\n",
              "      <td>Nike Jacob Janowski,Steackers</td>\n",
              "    </tr>\n",
              "    <tr>\n",
              "      <th>20</th>\n",
              "      <td>155027</td>\n",
              "      <td>T-Shirt Colorblock vans</td>\n",
              "      <td>1.0</td>\n",
              "      <td>189.99</td>\n",
              "      <td>2019-10-25 01:50:00</td>\n",
              "      <td>84 AVN Elfarah, Rabat 10000, Morroco</td>\n",
              "      <td>10</td>\n",
              "      <td>189.99</td>\n",
              "      <td>Rabat</td>\n",
              "      <td>1</td>\n",
              "      <td>T-Shirt Colorblock vans,Supreme Cap</td>\n",
              "    </tr>\n",
              "  </tbody>\n",
              "</table>\n",
              "</div>"
            ],
            "text/plain": [
              "   Order_ID  ...                                            Grouped\n",
              "9    155018  ...  Element Complete Board,Element ‑ Visserie Allen 1\n",
              "10   155018  ...  Element Complete Board,Element ‑ Visserie Allen 1\n",
              "13   155021  ...                      Nike Jacob Janowski,Steackers\n",
              "14   155021  ...                      Nike Jacob Janowski,Steackers\n",
              "20   155027  ...                T-Shirt Colorblock vans,Supreme Cap\n",
              "\n",
              "[5 rows x 11 columns]"
            ]
          },
          "metadata": {
            "tags": []
          },
          "execution_count": 48
        }
      ]
    },
    {
      "cell_type": "markdown",
      "metadata": {
        "id": "RBUk0HCn5lBH"
      },
      "source": [
        "it looks like we get what we wanted in the grouped column. Now let's get rid of the duplicates "
      ]
    },
    {
      "cell_type": "code",
      "metadata": {
        "id": "S-sMAwui5j0L"
      },
      "source": [
        "year_duplicates = year_duplicates[['Order_ID','Grouped']].drop_duplicates()"
      ],
      "execution_count": null,
      "outputs": []
    },
    {
      "cell_type": "code",
      "metadata": {
        "id": "z9iFGlf652Ww",
        "outputId": "e8eca120-038d-4d74-8ef6-da273b004f52",
        "colab": {
          "base_uri": "https://localhost:8080/",
          "height": 204
        }
      },
      "source": [
        "year_duplicates.head()"
      ],
      "execution_count": null,
      "outputs": [
        {
          "output_type": "execute_result",
          "data": {
            "text/html": [
              "<div>\n",
              "<style scoped>\n",
              "    .dataframe tbody tr th:only-of-type {\n",
              "        vertical-align: middle;\n",
              "    }\n",
              "\n",
              "    .dataframe tbody tr th {\n",
              "        vertical-align: top;\n",
              "    }\n",
              "\n",
              "    .dataframe thead th {\n",
              "        text-align: right;\n",
              "    }\n",
              "</style>\n",
              "<table border=\"1\" class=\"dataframe\">\n",
              "  <thead>\n",
              "    <tr style=\"text-align: right;\">\n",
              "      <th></th>\n",
              "      <th>Order_ID</th>\n",
              "      <th>Grouped</th>\n",
              "    </tr>\n",
              "  </thead>\n",
              "  <tbody>\n",
              "    <tr>\n",
              "      <th>9</th>\n",
              "      <td>155018</td>\n",
              "      <td>Element Complete Board,Element ‑ Visserie Allen 1</td>\n",
              "    </tr>\n",
              "    <tr>\n",
              "      <th>13</th>\n",
              "      <td>155021</td>\n",
              "      <td>Nike Jacob Janowski,Steackers</td>\n",
              "    </tr>\n",
              "    <tr>\n",
              "      <th>20</th>\n",
              "      <td>155027</td>\n",
              "      <td>T-Shirt Colorblock vans,Supreme Cap</td>\n",
              "    </tr>\n",
              "    <tr>\n",
              "      <th>197</th>\n",
              "      <td>155203</td>\n",
              "      <td>Grip,Grip</td>\n",
              "    </tr>\n",
              "    <tr>\n",
              "      <th>225</th>\n",
              "      <td>155230</td>\n",
              "      <td>T-Shirt Colorblock vans,Flip Complete Board</td>\n",
              "    </tr>\n",
              "  </tbody>\n",
              "</table>\n",
              "</div>"
            ],
            "text/plain": [
              "    Order_ID                                            Grouped\n",
              "9     155018  Element Complete Board,Element ‑ Visserie Allen 1\n",
              "13    155021                      Nike Jacob Janowski,Steackers\n",
              "20    155027                T-Shirt Colorblock vans,Supreme Cap\n",
              "197   155203                                          Grip,Grip\n",
              "225   155230        T-Shirt Colorblock vans,Flip Complete Board"
            ]
          },
          "metadata": {
            "tags": []
          },
          "execution_count": 50
        }
      ]
    },
    {
      "cell_type": "markdown",
      "metadata": {
        "id": "CLIQfd8a6Jl4"
      },
      "source": [
        "now we need to count the pairs of what occurs together most frequently. We're going to use a couple new libraries"
      ]
    },
    {
      "cell_type": "code",
      "metadata": {
        "id": "gENAuQiV57g1"
      },
      "source": [
        "from itertools import combinations\n",
        "from collections import Counter"
      ],
      "execution_count": null,
      "outputs": []
    },
    {
      "cell_type": "code",
      "metadata": {
        "id": "zKX6d7TW6jin"
      },
      "source": [
        "count = Counter()\n",
        "for row in year_duplicates['Grouped']:\n",
        "  row_list= row.split(',')\n",
        "  count.update(Counter(combinations(row_list, 2)))"
      ],
      "execution_count": null,
      "outputs": []
    },
    {
      "cell_type": "code",
      "metadata": {
        "id": "PyBUtwR360Bk",
        "outputId": "0dcd4bfc-cf18-45e5-f50e-e620f779575a",
        "colab": {
          "base_uri": "https://localhost:8080/"
        }
      },
      "source": [
        "# get the first 10 \n",
        "for key,value in count.most_common(10):\n",
        "  print(key,value)"
      ],
      "execution_count": null,
      "outputs": [
        {
          "output_type": "stream",
          "text": [
            "('Flip Complete Board', 'All In One Skate') 98\n",
            "('Element Complete Board', 'Element ‑ Visserie Allen 1') 92\n",
            "('Flip Complete Board', 'Supreme Cap') 49\n",
            "('Element Complete Board', 'Supreme Cap') 40\n",
            "('Flip Complete Board', 'Black Standard Bullet Trucks') 34\n",
            "('Oliveira Tin Toy Deck', 'Element ‑ Visserie Allen 1') 30\n",
            "('Element Complete Board', 'T-Shirt Colorblock vans') 21\n",
            "('Element ‑ Visserie Allen 1', 'Supreme Cap') 15\n",
            "('Oliveira Tin Toy Deck', 'Supreme Cap') 12\n",
            "('All In One Skate', 'Black Standard Bullet Trucks') 10\n"
          ],
          "name": "stdout"
        }
      ]
    },
    {
      "cell_type": "markdown",
      "metadata": {
        "id": "Nb6GzEBA7Hgi"
      },
      "source": [
        "Flip Complete Board and All In One Skate were the most commonly items ordered together. Element Complete Board and Element ‑ Visserie Allen 1 too. So what would we do with this. Maybe tryin g to be smart with promotions that we're offering if were selling a complete board try to offer a smart deal. People already want to buy an extra cap or All In One Skate"
      ]
    },
    {
      "cell_type": "markdown",
      "metadata": {
        "id": "gX6YlX6M8otj"
      },
      "source": [
        "# Question 5 : what product sold the most? why do you think it sold the most?"
      ]
    },
    {
      "cell_type": "code",
      "metadata": {
        "id": "BTEhmM897GKM",
        "outputId": "75c180cc-56cb-4fd0-e5ea-5a897c451bb6",
        "colab": {
          "base_uri": "https://localhost:8080/"
        }
      },
      "source": [
        "# grouping the products by quantity ordered\n",
        "grp_quantity = year.groupby('Product')['Quantity_Ordered'].sum()\n",
        "grp_quantity"
      ],
      "execution_count": null,
      "outputs": [
        {
          "output_type": "execute_result",
          "data": {
            "text/plain": [
              "Product\n",
              "55mm Sparx 99a Ricta Wheels                           381.0\n",
              "All In One Skate                                     2195.0\n",
              "Black Standard Bullet Trucks                         1543.0\n",
              "Element Complete Board                                534.0\n",
              "Element by Nigel Cabourn Alder 4 Jacket               492.0\n",
              "Element ‑ Visserie Allen 1                           2217.0\n",
              "Flat Bar                                              401.0\n",
              "Flip Complete Board                                   694.0\n",
              "Grip                                                 2176.0\n",
              "Mercer Flora Untamed 35\" Longboard                     68.0\n",
              "Nike Jacob Janowski                                   643.0\n",
              "Nike Nyjah 2                                          641.0\n",
              "Oliveira Tin Toy Deck                                 182.0\n",
              "Polished Silver Standard Bullet Trucks                768.0\n",
              "Santa Cruz Classic Dot 41\" Drop Through Longboard      59.0\n",
              "Steackers                                            2198.0\n",
              "Supreme Cap                                          1888.0\n",
              "T-Shirt Colorblock vans                              1360.0\n",
              "Trasher hoodie                                        488.0\n",
              "Name: Quantity_Ordered, dtype: float64"
            ]
          },
          "metadata": {
            "tags": []
          },
          "execution_count": 55
        }
      ]
    },
    {
      "cell_type": "code",
      "metadata": {
        "id": "jM3SR2ud9UEN",
        "outputId": "9df0ec7b-b816-470a-c04e-51dd61fc667f",
        "colab": {
          "base_uri": "https://localhost:8080/"
        }
      },
      "source": [
        "# grouping the products by sales\n",
        "grp_sales = year.groupby('Product')['Sales'].sum()\n",
        "grp_sales"
      ],
      "execution_count": null,
      "outputs": [
        {
          "output_type": "execute_result",
          "data": {
            "text/plain": [
              "Product\n",
              "55mm Sparx 99a Ricta Wheels                            83816.19\n",
              "All In One Skate                                      195245.25\n",
              "Black Standard Bullet Trucks                          462900.00\n",
              "Element Complete Board                                640800.00\n",
              "Element by Nigel Cabourn Alder 4 Jacket              1672800.00\n",
              "Element ‑ Visserie Allen 1                            183900.15\n",
              "Flat Bar                                              761895.99\n",
              "Flip Complete Board                                   971600.00\n",
              "Grip                                                   58403.84\n",
              "Mercer Flora Untamed 35\" Longboard                     81600.00\n",
              "Nike Jacob Janowski                                   500890.57\n",
              "Nike Nyjah 2                                          486512.59\n",
              "Oliveira Tin Toy Deck                                 145600.00\n",
              "Polished Silver Standard Bullet Trucks                230392.32\n",
              "Santa Cruz Classic Dot 41\" Drop Through Longboard      70800.00\n",
              "Steackers                                              54928.02\n",
              "Supreme Cap                                           151021.12\n",
              "T-Shirt Colorblock vans                               258386.40\n",
              "Trasher hoodie                                        292800.00\n",
              "Name: Sales, dtype: float64"
            ]
          },
          "metadata": {
            "tags": []
          },
          "execution_count": 56
        }
      ]
    },
    {
      "cell_type": "code",
      "metadata": {
        "id": "PYJkzCg-9ka2",
        "outputId": "68f45b49-dca6-433d-97f2-d0151ca44d16",
        "colab": {
          "base_uri": "https://localhost:8080/",
          "height": 669
        }
      },
      "source": [
        "pd.concat([grp_quantity, grp_sales], axis=1)"
      ],
      "execution_count": null,
      "outputs": [
        {
          "output_type": "execute_result",
          "data": {
            "text/html": [
              "<div>\n",
              "<style scoped>\n",
              "    .dataframe tbody tr th:only-of-type {\n",
              "        vertical-align: middle;\n",
              "    }\n",
              "\n",
              "    .dataframe tbody tr th {\n",
              "        vertical-align: top;\n",
              "    }\n",
              "\n",
              "    .dataframe thead th {\n",
              "        text-align: right;\n",
              "    }\n",
              "</style>\n",
              "<table border=\"1\" class=\"dataframe\">\n",
              "  <thead>\n",
              "    <tr style=\"text-align: right;\">\n",
              "      <th></th>\n",
              "      <th>Quantity_Ordered</th>\n",
              "      <th>Sales</th>\n",
              "    </tr>\n",
              "    <tr>\n",
              "      <th>Product</th>\n",
              "      <th></th>\n",
              "      <th></th>\n",
              "    </tr>\n",
              "  </thead>\n",
              "  <tbody>\n",
              "    <tr>\n",
              "      <th>55mm Sparx 99a Ricta Wheels</th>\n",
              "      <td>381.0</td>\n",
              "      <td>83816.19</td>\n",
              "    </tr>\n",
              "    <tr>\n",
              "      <th>All In One Skate</th>\n",
              "      <td>2195.0</td>\n",
              "      <td>195245.25</td>\n",
              "    </tr>\n",
              "    <tr>\n",
              "      <th>Black Standard Bullet Trucks</th>\n",
              "      <td>1543.0</td>\n",
              "      <td>462900.00</td>\n",
              "    </tr>\n",
              "    <tr>\n",
              "      <th>Element Complete Board</th>\n",
              "      <td>534.0</td>\n",
              "      <td>640800.00</td>\n",
              "    </tr>\n",
              "    <tr>\n",
              "      <th>Element by Nigel Cabourn Alder 4 Jacket</th>\n",
              "      <td>492.0</td>\n",
              "      <td>1672800.00</td>\n",
              "    </tr>\n",
              "    <tr>\n",
              "      <th>Element ‑ Visserie Allen 1</th>\n",
              "      <td>2217.0</td>\n",
              "      <td>183900.15</td>\n",
              "    </tr>\n",
              "    <tr>\n",
              "      <th>Flat Bar</th>\n",
              "      <td>401.0</td>\n",
              "      <td>761895.99</td>\n",
              "    </tr>\n",
              "    <tr>\n",
              "      <th>Flip Complete Board</th>\n",
              "      <td>694.0</td>\n",
              "      <td>971600.00</td>\n",
              "    </tr>\n",
              "    <tr>\n",
              "      <th>Grip</th>\n",
              "      <td>2176.0</td>\n",
              "      <td>58403.84</td>\n",
              "    </tr>\n",
              "    <tr>\n",
              "      <th>Mercer Flora Untamed 35\" Longboard</th>\n",
              "      <td>68.0</td>\n",
              "      <td>81600.00</td>\n",
              "    </tr>\n",
              "    <tr>\n",
              "      <th>Nike Jacob Janowski</th>\n",
              "      <td>643.0</td>\n",
              "      <td>500890.57</td>\n",
              "    </tr>\n",
              "    <tr>\n",
              "      <th>Nike Nyjah 2</th>\n",
              "      <td>641.0</td>\n",
              "      <td>486512.59</td>\n",
              "    </tr>\n",
              "    <tr>\n",
              "      <th>Oliveira Tin Toy Deck</th>\n",
              "      <td>182.0</td>\n",
              "      <td>145600.00</td>\n",
              "    </tr>\n",
              "    <tr>\n",
              "      <th>Polished Silver Standard Bullet Trucks</th>\n",
              "      <td>768.0</td>\n",
              "      <td>230392.32</td>\n",
              "    </tr>\n",
              "    <tr>\n",
              "      <th>Santa Cruz Classic Dot 41\" Drop Through Longboard</th>\n",
              "      <td>59.0</td>\n",
              "      <td>70800.00</td>\n",
              "    </tr>\n",
              "    <tr>\n",
              "      <th>Steackers</th>\n",
              "      <td>2198.0</td>\n",
              "      <td>54928.02</td>\n",
              "    </tr>\n",
              "    <tr>\n",
              "      <th>Supreme Cap</th>\n",
              "      <td>1888.0</td>\n",
              "      <td>151021.12</td>\n",
              "    </tr>\n",
              "    <tr>\n",
              "      <th>T-Shirt Colorblock vans</th>\n",
              "      <td>1360.0</td>\n",
              "      <td>258386.40</td>\n",
              "    </tr>\n",
              "    <tr>\n",
              "      <th>Trasher hoodie</th>\n",
              "      <td>488.0</td>\n",
              "      <td>292800.00</td>\n",
              "    </tr>\n",
              "  </tbody>\n",
              "</table>\n",
              "</div>"
            ],
            "text/plain": [
              "                                                   Quantity_Ordered       Sales\n",
              "Product                                                                        \n",
              "55mm Sparx 99a Ricta Wheels                                   381.0    83816.19\n",
              "All In One Skate                                             2195.0   195245.25\n",
              "Black Standard Bullet Trucks                                 1543.0   462900.00\n",
              "Element Complete Board                                        534.0   640800.00\n",
              "Element by Nigel Cabourn Alder 4 Jacket                       492.0  1672800.00\n",
              "Element ‑ Visserie Allen 1                                   2217.0   183900.15\n",
              "Flat Bar                                                      401.0   761895.99\n",
              "Flip Complete Board                                           694.0   971600.00\n",
              "Grip                                                         2176.0    58403.84\n",
              "Mercer Flora Untamed 35\" Longboard                             68.0    81600.00\n",
              "Nike Jacob Janowski                                           643.0   500890.57\n",
              "Nike Nyjah 2                                                  641.0   486512.59\n",
              "Oliveira Tin Toy Deck                                         182.0   145600.00\n",
              "Polished Silver Standard Bullet Trucks                        768.0   230392.32\n",
              "Santa Cruz Classic Dot 41\" Drop Through Longboard              59.0    70800.00\n",
              "Steackers                                                    2198.0    54928.02\n",
              "Supreme Cap                                                  1888.0   151021.12\n",
              "T-Shirt Colorblock vans                                      1360.0   258386.40\n",
              "Trasher hoodie                                                488.0   292800.00"
            ]
          },
          "metadata": {
            "tags": []
          },
          "execution_count": 57
        }
      ]
    },
    {
      "cell_type": "code",
      "metadata": {
        "id": "-7ygt5G_9siL",
        "outputId": "b5ab6ee3-f8dc-429a-80d9-15fa5aa05e2b",
        "colab": {
          "base_uri": "https://localhost:8080/",
          "height": 819
        }
      },
      "source": [
        "orders = grp_quantity\n",
        "plt.figure(figsize=(16,8))\n",
        "plt.bar(grp_quantity.index, grp_quantity )\n",
        "plt.xticks(grp_quantity.index, rotation='vertical', size=12)\n",
        "plt.xlabel('producs')\n",
        "plt.ylabel('quantaty ordered')"
      ],
      "execution_count": null,
      "outputs": [
        {
          "output_type": "execute_result",
          "data": {
            "text/plain": [
              "Text(0, 0.5, 'quantaty ordered')"
            ]
          },
          "metadata": {
            "tags": []
          },
          "execution_count": 58
        },
        {
          "output_type": "display_data",
          "data": {
            "image/png": "[encoded data removed]",
            "text/plain": [
              "<Figure size 1152x576 with 1 Axes>"
            ]
          },
          "metadata": {
            "tags": [],
            "needs_background": "light"
          }
        }
      ]
    },
    {
      "cell_type": "markdown",
      "metadata": {
        "id": "PBv9eIQn-Nct"
      },
      "source": [
        "the items that were sold the most are the cheap like all in one skate and grip. Longboard is not cheap so that's probably the reason they are a lot higher the longboard or other expensive items. Let's try to prove that by overlaying the graph with maybe the actual prices of these items and see if there is like kind of direct correlation."
      ]
    },
    {
      "cell_type": "code",
      "metadata": {
        "id": "aFycOwLX94gM",
        "outputId": "615aa648-129c-4df9-da79-5abf461022d1",
        "colab": {
          "base_uri": "https://localhost:8080/"
        }
      },
      "source": [
        "grp_prices=year.groupby('Product')['Price_Each'].mean()\n",
        "grp_prices"
      ],
      "execution_count": null,
      "outputs": [
        {
          "output_type": "execute_result",
          "data": {
            "text/plain": [
              "Product\n",
              "55mm Sparx 99a Ricta Wheels                           219.99\n",
              "All In One Skate                                       88.95\n",
              "Black Standard Bullet Trucks                          300.00\n",
              "Element Complete Board                               1200.00\n",
              "Element by Nigel Cabourn Alder 4 Jacket              3400.00\n",
              "Element ‑ Visserie Allen 1                             82.95\n",
              "Flat Bar                                             1899.99\n",
              "Flip Complete Board                                  1400.00\n",
              "Grip                                                   26.84\n",
              "Mercer Flora Untamed 35\" Longboard                   1200.00\n",
              "Nike Jacob Janowski                                   778.99\n",
              "Nike Nyjah 2                                          758.99\n",
              "Oliveira Tin Toy Deck                                 800.00\n",
              "Polished Silver Standard Bullet Trucks                299.99\n",
              "Santa Cruz Classic Dot 41\" Drop Through Longboard    1200.00\n",
              "Steackers                                              24.99\n",
              "Supreme Cap                                            79.99\n",
              "T-Shirt Colorblock vans                               189.99\n",
              "Trasher hoodie                                        600.00\n",
              "Name: Price_Each, dtype: float64"
            ]
          },
          "metadata": {
            "tags": []
          },
          "execution_count": 60
        }
      ]
    },
    {
      "cell_type": "code",
      "metadata": {
        "id": "hfMk8hSY_NLs",
        "outputId": "78796998-e8bf-4911-dde6-5282ddd32ce6",
        "colab": {
          "base_uri": "https://localhost:8080/",
          "height": 697
        }
      },
      "source": [
        "fig, ax1 = plt.subplots(figsize=(16,8))\n",
        "\n",
        "ax2 = ax1.twinx()\n",
        "ax1.bar(grp_quantity.index, grp_quantity, color='g')\n",
        "ax2.plot(grp_quantity.index, grp_prices, color='b')\n",
        "\n",
        "ax1.set_xlabel('Product Name')\n",
        "ax1.set_ylabel('Quantity Ordered', color='g')\n",
        "ax2.set_ylabel('Price ($)', color='b')\n",
        "ax1.set_xticklabels(grp_quantity.index, rotation='vertical', size=8)\n",
        "\n",
        "fig.show()"
      ],
      "execution_count": null,
      "outputs": [
        {
          "output_type": "display_data",
          "data": {
            "image/png": "[encoded data removed]",
            "text/plain": [
              "<Figure size 1152x576 with 2 Axes>"
            ]
          },
          "metadata": {
            "tags": [],
            "needs_background": "light"
          }
        }
      ]
    },
    {
      "cell_type": "markdown",
      "metadata": {
        "id": "jNffavzs_o5s"
      },
      "source": [
        "in  blue we have the price and in the green we have quantaty ordered. Whenever the quantity ordered is high the price is low. And then we look at some inconsistencies like teh price is very high for element complete board, why is the quantity ordered higher than longboard. We guess that most people prefer skating a simple board than an overboard that's wy they are lookin to buy simple boards more "
      ]
    }
  ]
}